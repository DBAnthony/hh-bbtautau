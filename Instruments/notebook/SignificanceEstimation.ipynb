{
 "cells": [
  {
   "cell_type": "markdown",
   "metadata": {},
   "source": [
    "Include all the packages needed for this exercise as reported below"
   ]
  },
  {
   "cell_type": "code",
   "execution_count": 1,
   "metadata": {
    "collapsed": true
   },
   "outputs": [],
   "source": [
    "import numpy as np\n",
    "import matplotlib.pyplot as plt\n",
    "import math\n",
    "import uproot\n",
    "import pandas"
   ]
  },
  {
   "cell_type": "markdown",
   "metadata": {},
   "source": [
    "Here it is an enumeration where are reported the sample id for each sample"
   ]
  },
  {
   "cell_type": "code",
   "execution_count": 2,
   "metadata": {
    "collapsed": true
   },
   "outputs": [],
   "source": [
    "class Samples:\n",
    "    Signal_NonRes = -125\n",
    "    Signal_Radion = [ -250, -260, -270, -280, -300, -320, -340, -350,\n",
    "                      -400, -450, -500, -550, -600, -650, -750, -800, -900 ]\n",
    "    Data = 0\n",
    "    TT = 1\n",
    "    DY = 2\n",
    "    Wjets= 3\n",
    "    SM_Higgs = 4\n",
    "    other_bkg = 5"
   ]
  },
  {
   "cell_type": "markdown",
   "metadata": {},
   "source": [
    "Open the file, called anaTuples, which are different for each channel. Then create a pandas DataFrame."
   ]
  },
  {
   "cell_type": "code",
   "execution_count": 4,
   "metadata": {
    "collapsed": false
   },
   "outputs": [],
   "source": [
    "path = \"/gpfs/ddn/cms/user/cmsdas/2019/hh_bbtautau/anaTuples/\"\n",
    "#path = \"/Users/Tita/Desktop/Run2_analysis_hh_bbtautau/anaTuples/\"\n",
    "#path = \"./anaTuples/\"\n",
    "\n",
    "samples = {'eTau': \"eTau_tuple.root\", 'muTau': \"muTau_tuple.root\", 'tauTau': \"tauTau_tuple.root\"} \n",
    "channel = \"tauTau\"\n",
    "\n",
    "with uproot.open(path+samples[channel]) as file:\n",
    "    tree = file[channel]\n",
    "    df = tree.arrays('*', outputtype=pandas.DataFrame)"
   ]
  },
  {
   "cell_type": "markdown",
   "metadata": {},
   "source": [
    "The aim of the exercise is to calculate the significance for each resonant sample, using different preselection:\n",
    "\n",
    "* Requiring that we are in the signal region, that the two tau leptons should be opposite charge and they should isolated\n",
    "\n"
   ]
  },
  {
   "cell_type": "code",
   "execution_count": 6,
   "metadata": {
    "collapsed": false
   },
   "outputs": [
    {
     "name": "stdout",
     "output_type": "stream",
     "text": [
      "17\n",
      "mX = 250 GeV, sigma = 0.786348268139\n",
      "mX = 260 GeV, sigma = 0.706799273689\n",
      "mX = 270 GeV, sigma = 0.806226032088\n",
      "mX = 280 GeV, sigma = 0.835368962602\n",
      "mX = 300 GeV, sigma = 1.14735341021\n",
      "mX = 320 GeV, sigma = 1.49039350782\n",
      "mX = 340 GeV, sigma = 1.85582770975\n",
      "mX = 350 GeV, sigma = 2.02259287517\n",
      "mX = 400 GeV, sigma = 3.09608891459\n",
      "mX = 450 GeV, sigma = 4.34215193991\n",
      "mX = 500 GeV, sigma = 5.46612451564\n",
      "mX = 550 GeV, sigma = 6.44964323671\n",
      "mX = 600 GeV, sigma = 7.46356994166\n",
      "mX = 650 GeV, sigma = 8.49626561174\n",
      "mX = 750 GeV, sigma = 9.81470375555\n",
      "mX = 800 GeV, sigma = 10.648507546\n",
      "mX = 900 GeV, sigma = 11.5616008575\n"
     ]
    },
    {
     "data": {
      "image/png": "[encoded data removed]",
      "text/plain": [
       "<matplotlib.figure.Figure at 0x7f1e542fccd0>"
      ]
     },
     "metadata": {},
     "output_type": "display_data"
    }
   ],
   "source": [
    "presel = (df.q_1 + df.q_2 == 0)\n",
    "\n",
    "mX = np.array(Samples.Signal_Radion)\n",
    "print(len(mX))\n",
    "sigma = np.zeros(len(mX))\n",
    "\n",
    "for n in range(len(mX)):\n",
    "    n_s = np.sum(df[(df.sample_id == mX[n]) & presel].weight)\n",
    "    n_b = np.sum(df[(df.sample_id > 0) & presel].weight)\n",
    "    sigma[n] = n_s / math.sqrt(n_s + n_b)\n",
    "    print('mX = {} GeV, sigma = {}'.format(-mX[n], sigma[n]))\n",
    "\n",
    "bins_x = np.linspace(0, 1000, num=50)\n",
    "bins_y = np.linspace(0, 15, num=50)\n",
    "sigma_plt = plt.hist2d(-mX[:], sigma[:], bins=[bins_x,bins_y])\n",
    "plt.show()"
   ]
  },
  {
   "cell_type": "markdown",
   "metadata": {},
   "source": [
    "* In addition to the signal region, we should require and elliptical mass cut around the M_bb and M_tautau candidate, around 125 GeV (the measured mass of the Standard Higgs boson candidate)"
   ]
  },
  {
   "cell_type": "code",
   "execution_count": 9,
   "metadata": {
    "collapsed": false
   },
   "outputs": [
    {
     "name": "stdout",
     "output_type": "stream",
     "text": [
      "mX = 250 GeV, sigma = 0.726969540969\n",
      "mX = 260 GeV, sigma = 0.579169638863\n",
      "mX = 270 GeV, sigma = 0.57934814168\n",
      "mX = 280 GeV, sigma = 0.657846607762\n",
      "mX = 300 GeV, sigma = 0.998709959201\n",
      "mX = 320 GeV, sigma = 1.22723747933\n",
      "mX = 340 GeV, sigma = 1.55594395498\n",
      "mX = 350 GeV, sigma = 1.71883397882\n",
      "mX = 400 GeV, sigma = 2.82822987737\n",
      "mX = 450 GeV, sigma = 3.90764154977\n",
      "mX = 500 GeV, sigma = 5.24142524851\n",
      "mX = 550 GeV, sigma = 5.95675080322\n",
      "mX = 600 GeV, sigma = 7.32192226329\n",
      "mX = 650 GeV, sigma = 8.19699454173\n",
      "mX = 750 GeV, sigma = 9.56780890937\n",
      "mX = 800 GeV, sigma = 10.706809386\n",
      "mX = 900 GeV, sigma = 11.9150402873\n"
     ]
    },
    {
     "data": {
      "image/png": "[encoded data removed]",
      "text/plain": [
       "<matplotlib.figure.Figure at 0x7f1e542fcbd0>"
      ]
     },
     "metadata": {},
     "output_type": "display_data"
    }
   ],
   "source": [
    "bb_cand_mass = df.m_bb\n",
    "tt_cand_mass = df.m_sv\n",
    "\n",
    "inside_ellipse = ((bb_cand_mass - 116.0) / 35.0)**2 + ((tt_cand_mass - 111.0) / 45.0) ** 2 < 1\n",
    "\n",
    "sigma_mass_cut = np.zeros(len(mX))\n",
    "\n",
    "for n in range(len(mX)):\n",
    "    n_s = np.sum(df[(df.sample_id == mX[n]) & presel & inside_ellipse].weight)\n",
    "    n_b = np.sum(df[(df.sample_id > 0) & presel & inside_ellipse].weight)\n",
    "    sigma_mass_cut[n] = n_s / math.sqrt(n_s + n_b)\n",
    "    print('mX = {} GeV, sigma = {}'.format(-mX[n], sigma_mass_cut[n]))\n",
    "    \n",
    "sigma_mass_cut_plt = plt.hist2d(-mX[:], sigma_mass_cut[:], bins=[bins_x,bins_y])\n",
    "plt.show()"
   ]
  },
  {
   "cell_type": "markdown",
   "metadata": {},
   "source": [
    "* As last point it should be added a different mass cut for the resonant candidate, to see how it changes the significance"
   ]
  },
  {
   "cell_type": "code",
   "execution_count": 10,
   "metadata": {
    "collapsed": false
   },
   "outputs": [
    {
     "name": "stdout",
     "output_type": "stream",
     "text": [
      "mX = 250 GeV, sigma = 1.20277083505\n",
      "mX = 260 GeV, sigma = 0.959474191968\n",
      "mX = 270 GeV, sigma = 0.95976840651\n",
      "mX = 280 GeV, sigma = 1.08906379585\n",
      "mX = 300 GeV, sigma = 1.62563724661\n",
      "mX = 320 GeV, sigma = 2.00917486417\n",
      "mX = 340 GeV, sigma = 2.50847656063\n",
      "mX = 350 GeV, sigma = 2.74924488815\n",
      "mX = 400 GeV, sigma = 4.47668081364\n",
      "mX = 450 GeV, sigma = 5.80702973448\n",
      "mX = 500 GeV, sigma = 4.43506919602\n",
      "mX = 550 GeV, sigma = 0.669179329309\n",
      "mX = 600 GeV, sigma = 0.506722532168\n",
      "mX = 650 GeV, sigma = 0.509108373748\n",
      "mX = 750 GeV, sigma = 0.347172540404\n",
      "mX = 800 GeV, sigma = 0.381289355714\n",
      "mX = 900 GeV, sigma = 0.287405462801\n"
     ]
    },
    {
     "data": {
      "image/png": "[encoded data removed]",
      "text/plain": [
       "<matplotlib.figure.Figure at 0x7f1e5428b410>"
      ]
     },
     "metadata": {},
     "output_type": "display_data"
    }
   ],
   "source": [
    "m_ttbb = df.m_ttbb_kinfit\n",
    "\n",
    "mX_cut_low = m_ttbb > 250\n",
    "mX_cut_high = m_ttbb < 500\n",
    "mX_cut = mX_cut_low & mX_cut_high\n",
    "\n",
    "sigma_mX_cut = np.zeros(len(mX))\n",
    "\n",
    "for n in range(len(mX)):\n",
    "    n_s = np.sum(df[(df.sample_id == mX[n]) & presel & inside_ellipse & mX_cut].weight)\n",
    "    n_b = np.sum(df[(df.sample_id > 0) & presel & inside_ellipse & mX_cut].weight)\n",
    "    sigma_mX_cut[n] = n_s / math.sqrt(n_s + n_b)\n",
    "    print('mX = {} GeV, sigma = {}'.format(-mX[n], sigma_mX_cut[n]))\n",
    "    \n",
    "bins_y_new = np.linspace(0, 6, num=50)\n",
    "sigma_mX_cut_plt = plt.hist2d(-mX[:], sigma_mX_cut[:], bins=[bins_x,bins_y_new])\n",
    "plt.show()"
   ]
  },
  {
   "cell_type": "code",
   "execution_count": null,
   "metadata": {
    "collapsed": true
   },
   "outputs": [],
   "source": []
  }
 ],
 "metadata": {
  "kernelspec": {
   "display_name": "Python 2",
   "language": "python",
   "name": "python2"
  },
  "language_info": {
   "codemirror_mode": {
    "name": "ipython",
    "version": 2
   },
   "file_extension": ".py",
   "mimetype": "text/x-python",
   "name": "python",
   "nbconvert_exporter": "python",
   "pygments_lexer": "ipython2",
   "version": "2.7.11"
  }
 },
 "nbformat": 4,
 "nbformat_minor": 2
}
