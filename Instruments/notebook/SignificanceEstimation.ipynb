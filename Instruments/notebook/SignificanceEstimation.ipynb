{
 "cells": [
  {
   "cell_type": "markdown",
   "metadata": {},
   "source": [
    "Include all the packages needed for this exercise as reported below"
   ]
  },
  {
   "cell_type": "code",
   "execution_count": 2,
   "metadata": {},
   "outputs": [],
   "source": [
    "import numpy as np\n",
    "import matplotlib.pyplot as plt\n",
    "import math\n",
    "import uproot\n",
    "import pandas"
   ]
  },
  {
   "cell_type": "markdown",
   "metadata": {},
   "source": [
    "Write an enumeration where are reported the sample id for each sample, considering the same sample_id in AnaTuple.h - https://github.com/hh-italian-group/hh-bbtautau/blob/cmsdas_2019/Analysis/include/AnaTuple.h#L16"
   ]
  },
  {
   "cell_type": "code",
   "execution_count": 3,
   "metadata": {},
   "outputs": [
    {
     "ename": "SyntaxError",
     "evalue": "unexpected EOF while parsing (<ipython-input-3-56b30480e25b>, line 2)",
     "output_type": "error",
     "traceback": [
      "\u001b[0;36m  File \u001b[0;32m\"<ipython-input-3-56b30480e25b>\"\u001b[0;36m, line \u001b[0;32m2\u001b[0m\n\u001b[0;31m    #fill the enumeration - hint write the Signal_Radion as vector\u001b[0m\n\u001b[0m                                                                  ^\u001b[0m\n\u001b[0;31mSyntaxError\u001b[0m\u001b[0;31m:\u001b[0m unexpected EOF while parsing\n"
     ]
    }
   ],
   "source": [
    "class Samples:\n",
    "    #fill the enumeration - hint write the Signal_Radion as vector"
   ]
  },
  {
   "cell_type": "markdown",
   "metadata": {},
   "source": [
    "Open the file, called anaTuples, which are different for each channel. Then create a pandas DataFrame."
   ]
  },
  {
   "cell_type": "code",
   "execution_count": 3,
   "metadata": {},
   "outputs": [],
   "source": [
    "#open the file according where you are working\n",
    "\n",
    "#path = \"/gpfs/ddn/cms/user/cmsdas/2019/hh_bbtautau/anaTuples/\"\n",
    "#path = \"/eos/home-m/mgrippo/CMSDAS_2019_hh_bbtautau/anaTuples/\"\n",
    "\n",
    "#create a map between the channel and the corresponding anaTuple\n",
    "samples = {} \n",
    "channel = #specify the channel with which you want to work\n",
    "\n",
    "#open file with uproot and create pandas DataFrame\n",
    "with uproot.open(path+samples[channel]) as file:\n",
    "    tree = file[channel]\n",
    "    df = tree.arrays('*', outputtype=pandas.DataFrame)"
   ]
  },
  {
   "cell_type": "markdown",
   "metadata": {},
   "source": [
    "The aim of the exercise is to calculate the significance for each resonant sample, using different preselection:\n",
    "\n",
    "* Requiring that we are in the signal region, that the two tau leptons should be opposite charge and they should isolated\n",
    "\n"
   ]
  },
  {
   "cell_type": "code",
   "execution_count": 4,
   "metadata": {},
   "outputs": [
    {
     "name": "stdout",
     "output_type": "stream",
     "text": [
      "17\n",
      "mX         sigma     \n",
      "250.00     0.79      \n",
      "260.00     0.71      \n",
      "270.00     0.81      \n",
      "280.00     0.84      \n",
      "300.00     1.15      \n",
      "320.00     1.49      \n",
      "340.00     1.86      \n",
      "350.00     2.02      \n",
      "400.00     3.10      \n",
      "450.00     4.34      \n",
      "500.00     5.47      \n",
      "550.00     6.45      \n",
      "600.00     7.46      \n",
      "650.00     8.50      \n",
      "750.00     9.81      \n",
      "800.00     10.65     \n",
      "900.00     11.56     \n"
     ]
    },
    {
     "data": {
      "image/png": "[encoded data removed]",
      "text/plain": [
       "<Figure size 432x288 with 1 Axes>"
      ]
     },
     "metadata": {
      "needs_background": "light"
     },
     "output_type": "display_data"
    }
   ],
   "source": [
    "presel = (df.q_1 + df.q_2 == 0)\n",
    "\n",
    "mX = np.array(Samples.Signal_Radion)\n",
    "print(len(mX))\n",
    "sigma = np.zeros(len(mX))\n",
    "\n",
    "print('{:10} {:10}'.format('mX', 'sigma'))\n",
    "\n",
    "for n in range(len(mX)):\n",
    "    n_s = np.sum(df[(df.sample_id == mX[n]) & presel].weight)\n",
    "    n_b = np.sum(df[(df.sample_id > 0) & presel].weight)\n",
    "    sigma[n] = n_s / math.sqrt(n_s + n_b)\n",
    "    #print('mX = {} GeV, sigma = {}'.format(-mX[n], sigma[n]))\n",
    "    print('{:<10.2f} {:<10.2f}'.format(-mX[n], sigma[n]))\n",
    "\n",
    "sigma_plt = plt.plot(-mX, sigma)\n",
    "plt.xlabel(r'$M_X$ [GeV]')\n",
    "plt.ylabel(r'Significance')\n",
    "plt.title('Significance')\n",
    "plt.show()"
   ]
  },
  {
   "cell_type": "markdown",
   "metadata": {},
   "source": [
    "* In addition to the signal region, we should require and elliptical mass cut around the M_bb and M_tautau candidate, around 125 GeV (the measured mass of the Standard Higgs boson candidate)"
   ]
  },
  {
   "cell_type": "code",
   "execution_count": 5,
   "metadata": {},
   "outputs": [
    {
     "name": "stdout",
     "output_type": "stream",
     "text": [
      "mX         sigma     \n",
      "250.00     0.73      \n",
      "260.00     0.58      \n",
      "270.00     0.58      \n",
      "280.00     0.66      \n",
      "300.00     1.00      \n",
      "320.00     1.23      \n",
      "340.00     1.56      \n",
      "350.00     1.72      \n",
      "400.00     2.83      \n",
      "450.00     3.91      \n",
      "500.00     5.24      \n",
      "550.00     5.96      \n",
      "600.00     7.32      \n",
      "650.00     8.20      \n",
      "750.00     9.57      \n",
      "800.00     10.71     \n",
      "900.00     11.92     \n"
     ]
    },
    {
     "data": {
      "image/png": "[encoded data removed]",
      "text/plain": [
       "<Figure size 432x288 with 1 Axes>"
      ]
     },
     "metadata": {
      "needs_background": "light"
     },
     "output_type": "display_data"
    }
   ],
   "source": [
    "#repeat the exercise but adding the cut in the ellipse for m_bb and m_tautau"
   ]
  },
  {
   "cell_type": "markdown",
   "metadata": {},
   "source": [
    "* As last point it should be added a different mass cut for the resonant candidate, to see how it changes the significance"
   ]
  },
  {
   "cell_type": "code",
   "execution_count": 6,
   "metadata": {},
   "outputs": [
    {
     "name": "stdout",
     "output_type": "stream",
     "text": [
      "mX         sigma     \n",
      "250.00     1.20      \n",
      "260.00     0.96      \n",
      "270.00     0.96      \n",
      "280.00     1.09      \n",
      "300.00     1.63      \n",
      "320.00     2.01      \n",
      "340.00     2.51      \n",
      "350.00     2.75      \n",
      "400.00     4.48      \n",
      "450.00     5.81      \n",
      "500.00     4.44      \n",
      "550.00     0.67      \n",
      "600.00     0.51      \n",
      "650.00     0.51      \n",
      "750.00     0.35      \n",
      "800.00     0.38      \n",
      "900.00     0.29      \n"
     ]
    },
    {
     "data": {
      "image/png": "[encoded data removed]",
      "text/plain": [
       "<Figure size 432x288 with 1 Axes>"
      ]
     },
     "metadata": {
      "needs_background": "light"
     },
     "output_type": "display_data"
    }
   ],
   "source": [
    "#repeat the exercise but adding the cut on the mass of the resonance m_X"
   ]
  },
  {
   "cell_type": "code",
   "execution_count": null,
   "metadata": {
    "collapsed": true
   },
   "outputs": [],
   "source": []
  }
 ],
 "metadata": {
  "kernelspec": {
   "display_name": "Python 3",
   "language": "python",
   "name": "python3"
  },
  "language_info": {
   "codemirror_mode": {
    "name": "ipython",
    "version": 3
   },
   "file_extension": ".py",
   "mimetype": "text/x-python",
   "name": "python",
   "nbconvert_exporter": "python",
   "pygments_lexer": "ipython3",
   "version": "3.6.7"
  }
 },
 "nbformat": 4,
 "nbformat_minor": 2
}
