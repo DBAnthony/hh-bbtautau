{
 "cells": [
  {
   "cell_type": "code",
   "execution_count": 1,
   "metadata": {},
   "outputs": [],
   "source": [
    "import numpy as np\n",
    "import matplotlib.pyplot as plt\n",
    "import math\n",
    "import uproot\n",
    "import pandas"
   ]
  },
  {
   "cell_type": "code",
   "execution_count": 2,
   "metadata": {},
   "outputs": [],
   "source": [
    "class Samples:\n",
    "    Signal_NonRes = -125\n",
    "    Signal_Radion = [ -250, -260, -270, -280, -300, -320, -340, -350,\n",
    "                      -400, -450, -500, -550, -600, -650, -750, -800, -900 ]\n",
    "    Data = 0\n",
    "    TT = 1\n",
    "    DY = 2\n",
    "    Wjets= 3\n",
    "    SM_Higgs = 4\n",
    "    other_bkg = 5"
   ]
  },
  {
   "cell_type": "code",
   "execution_count": 3,
   "metadata": {},
   "outputs": [],
   "source": [
    "#path = \"/gpfs/ddn/cms/user/cmsdas/2019/hh_bbtautau/anaTuples/\"\n",
    "path = \"/Users/Tita/Desktop/Run2_analysis_hh_bbtautau/anaTuples/\"\n",
    "#path = \"./anaTuples/\"\n",
    "\n",
    "samples = {'eTau': \"eTau_tuple.root\", 'muTau': \"muTau_tuple.root\", 'tauTau': \"tauTau_tuple.root\"} \n",
    "channel = \"tauTau\"\n",
    "\n",
    "with uproot.open(path+samples[channel]) as file:\n",
    "    tree = file[channel]\n",
    "    df = tree.arrays('*', outputtype=pandas.DataFrame)"
   ]
  },
  {
   "cell_type": "code",
   "execution_count": 6,
   "metadata": {},
   "outputs": [
    {
     "name": "stdout",
     "output_type": "stream",
     "text": [
      "mX = 125 GeV, sigma = 0.0\n"
     ]
    }
   ],
   "source": [
    "presel = (df.q_1 + df.q_2 == 0)\n",
    "mX = -Samples.Signal_NonRes\n",
    "n_s = np.sum(df[(df.sample_id == -mX) & presel].weight)\n",
    "n_b = np.sum(df[(df.sample_id > 0) & presel].weight)\n",
    "\n",
    "sigma = n_s / math.sqrt(n_s + n_b)\n",
    "print('mX = {} GeV, sigma = {}'.format(mX, sigma))"
   ]
  },
  {
   "cell_type": "code",
   "execution_count": null,
   "metadata": {},
   "outputs": [],
   "source": []
  }
 ],
 "metadata": {
  "kernelspec": {
   "display_name": "Python 3",
   "language": "python",
   "name": "python3"
  },
  "language_info": {
   "codemirror_mode": {
    "name": "ipython",
    "version": 3
   },
   "file_extension": ".py",
   "mimetype": "text/x-python",
   "name": "python",
   "nbconvert_exporter": "python",
   "pygments_lexer": "ipython3",
   "version": "3.6.7"
  }
 },
 "nbformat": 4,
 "nbformat_minor": 2
}
