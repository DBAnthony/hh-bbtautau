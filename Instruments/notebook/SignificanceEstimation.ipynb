{
 "cells": [
  {
   "cell_type": "code",
   "execution_count": 38,
   "metadata": {},
   "outputs": [],
   "source": [
    "import numpy as np\n",
    "import matplotlib.pyplot as plt\n",
    "import math\n",
    "import uproot\n",
    "import pandas"
   ]
  },
  {
   "cell_type": "code",
   "execution_count": 39,
   "metadata": {},
   "outputs": [],
   "source": [
    "class Samples:\n",
    "    Signal_NonRes = -125\n",
    "    Signal_Radion = [ -250, -260, -270, -280, -300, -320, -340, -350,\n",
    "                      -400, -450, -500, -550, -600, -650, -750, -800, -900 ]\n",
    "    Data = 0\n",
    "    TT = 1\n",
    "    DY = 2\n",
    "    Wjets= 3\n",
    "    SM_Higgs = 4\n",
    "    other_bkg = 5"
   ]
  },
  {
   "cell_type": "code",
   "execution_count": 40,
   "metadata": {},
   "outputs": [],
   "source": [
    "#path = \"/gpfs/ddn/cms/user/cmsdas/2019/hh_bbtautau/anaTuples/\"\n",
    "path = \"/Users/Tita/Desktop/Run2_analysis_hh_bbtautau/anaTuples/\"\n",
    "#path = \"./anaTuples/\"\n",
    "\n",
    "samples = {'eTau': \"eTau_tuple.root\", 'muTau': \"muTau_tuple.root\", 'tauTau': \"tauTau_tuple.root\"} \n",
    "channel = \"tauTau\"\n",
    "\n",
    "with uproot.open(path+samples[channel]) as file:\n",
    "    tree = file[channel]\n",
    "    df = tree.arrays('*', outputtype=pandas.DataFrame)"
   ]
  },
  {
   "cell_type": "code",
   "execution_count": 44,
   "metadata": {},
   "outputs": [
    {
     "ename": "SyntaxError",
     "evalue": "invalid syntax (<ipython-input-44-86f5e3616f3d>, line 15)",
     "output_type": "error",
     "traceback": [
      "\u001b[0;36m  File \u001b[0;32m\"<ipython-input-44-86f5e3616f3d>\"\u001b[0;36m, line \u001b[0;32m15\u001b[0m\n\u001b[0;31m    binsx = np.linspace(0, 1000, num=50)\u001b[0m\n\u001b[0m        ^\u001b[0m\n\u001b[0;31mSyntaxError\u001b[0m\u001b[0;31m:\u001b[0m invalid syntax\n"
     ]
    }
   ],
   "source": [
    "presel = (df.q_1 + df.q_2 == 0)\n",
    "\n",
    "mX = np.array(Samples.Signal_Radion)\n",
    "print(len(mX))\n",
    "sigma = np.zeros(len(mX))\n",
    "\n",
    "for n in range(len(mX)):\n",
    "    print()\n",
    "    n_s = np.sum(df[(df.sample_id == mX[n]) & presel].weight)\n",
    "    n_b = np.sum(df[(df.sample_id > 0) & presel].weight)\n",
    "    sigma[n] = n_s / math.sqrt(n_s + n_b)\n",
    "    print('mX = {} GeV, sigma = {}'.format(-mX[n], sigma[n])\n",
    "\n",
    "\n",
    "binsx = np.linspace(0, 1000, num=50)\n",
    "bins_y = np.linspace(0, 15, num=50)\n",
    "sigma_plt = plt.hist2d(-mX[:], sigma[:], bins=[bins_x,bins_y])\n",
    "plt.show()\n",
    "          \n",
    "bb_cand_mass = df.m_bb\n",
    "tt_cand_mass = df.m_sv\n",
    "\n",
    "inside_ellipse = ((bb_cand_mass - 116.0) / 35.0)**2 + ((tt_cand_mass - 111.0) / 45.0) ** 2 < 1\n",
    "\n",
    "sigma_mass_cut = np.zeros(len(mX))\n",
    "\n",
    "for n in range(len(mX)):\n",
    "    n_s = np.sum(df[(df.sample_id == mX[n]) & presel & inside_ellipse].weight)\n",
    "    n_b = np.sum(df[(df.sample_id > 0) & presel & inside_ellipse].weight)\n",
    "    sigma_mass_cut[n] = n_s / math.sqrt(n_s + n_b)\n",
    "    print('mX = {} GeV, sigma = {}'.format(-mX[n], sigma_mass_cut[n])"
   ]
  },
  {
   "cell_type": "code",
   "execution_count": 34,
   "metadata": {},
   "outputs": [
    {
     "ename": "SyntaxError",
     "evalue": "unexpected EOF while parsing (<ipython-input-34-b0d076e59046>, line 12)",
     "output_type": "error",
     "traceback": [
      "\u001b[0;36m  File \u001b[0;32m\"<ipython-input-34-b0d076e59046>\"\u001b[0;36m, line \u001b[0;32m12\u001b[0m\n\u001b[0;31m    print('mX = {} GeV, sigma = {}'.format(-mX[n], sigma_mass_cut[n])\u001b[0m\n\u001b[0m                                                                     ^\u001b[0m\n\u001b[0;31mSyntaxError\u001b[0m\u001b[0;31m:\u001b[0m unexpected EOF while parsing\n"
     ]
    }
   ],
   "source": [
    "\n"
   ]
  },
  {
   "cell_type": "code",
   "execution_count": null,
   "metadata": {},
   "outputs": [],
   "source": []
  }
 ],
 "metadata": {
  "kernelspec": {
   "display_name": "Python 3",
   "language": "python",
   "name": "python3"
  },
  "language_info": {
   "codemirror_mode": {
    "name": "ipython",
    "version": 3
   },
   "file_extension": ".py",
   "mimetype": "text/x-python",
   "name": "python",
   "nbconvert_exporter": "python",
   "pygments_lexer": "ipython3",
   "version": "3.6.7"
  }
 },
 "nbformat": 4,
 "nbformat_minor": 2
}
