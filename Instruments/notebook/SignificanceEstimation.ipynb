{
 "cells": [
  {
   "cell_type": "markdown",
   "metadata": {},
   "source": [
    "Include all the packages needed for this exercise as reported below"
   ]
  },
  {
   "cell_type": "code",
   "execution_count": 7,
   "metadata": {},
   "outputs": [],
   "source": [
    "import numpy as np\n",
    "import matplotlib.pyplot as plt\n",
    "import math\n",
    "import uproot\n",
    "import pandas"
   ]
  },
  {
   "cell_type": "markdown",
   "metadata": {},
   "source": [
    "Here it is an enumeration where are reported the sample id for each sample"
   ]
  },
  {
   "cell_type": "code",
   "execution_count": 8,
   "metadata": {},
   "outputs": [],
   "source": [
    "class Samples:\n",
    "    Signal_NonRes = -125\n",
    "    Signal_Radion = [ -250, -260, -270, -280, -300, -320, -340, -350,\n",
    "                      -400, -450, -500, -550, -600, -650, -750, -800, -900 ]\n",
    "    Data = 0\n",
    "    TT = 1\n",
    "    DY = 2\n",
    "    Wjets= 3\n",
    "    SM_Higgs = 4\n",
    "    other_bkg = 5"
   ]
  },
  {
   "cell_type": "code",
   "execution_count": 9,
   "metadata": {},
   "outputs": [],
   "source": [
    "#path = \"/gpfs/ddn/cms/user/cmsdas/2019/hh_bbtautau/anaTuples/\"\n",
    "path = \"/Users/Tita/Desktop/Run2_analysis_hh_bbtautau/anaTuples/\"\n",
    "#path = \"./anaTuples/\"\n",
    "\n",
    "samples = {'eTau': \"eTau_tuple.root\", 'muTau': \"muTau_tuple.root\", 'tauTau': \"tauTau_tuple.root\"} \n",
    "channel = \"tauTau\"\n",
    "\n",
    "with uproot.open(path+samples[channel]) as file:\n",
    "    tree = file[channel]\n",
    "    df = tree.arrays('*', outputtype=pandas.DataFrame)"
   ]
  },
  {
   "cell_type": "code",
   "execution_count": 13,
   "metadata": {},
   "outputs": [
    {
     "name": "stdout",
     "output_type": "stream",
     "text": [
      "17\n",
      "\n",
      "mX = 250 GeV, sigma = 0.7863482681389017\n",
      "\n",
      "mX = 260 GeV, sigma = 0.7067992736891854\n",
      "\n",
      "mX = 270 GeV, sigma = 0.8062260320881984\n",
      "\n",
      "mX = 280 GeV, sigma = 0.8353689626021972\n",
      "\n",
      "mX = 300 GeV, sigma = 1.147353410206899\n",
      "\n",
      "mX = 320 GeV, sigma = 1.4903935078235797\n",
      "\n",
      "mX = 340 GeV, sigma = 1.8558277097517135\n",
      "\n",
      "mX = 350 GeV, sigma = 2.022592875172761\n",
      "\n",
      "mX = 400 GeV, sigma = 3.096088914590572\n",
      "\n",
      "mX = 450 GeV, sigma = 4.342151939905101\n",
      "\n",
      "mX = 500 GeV, sigma = 5.4661245156422265\n",
      "\n",
      "mX = 550 GeV, sigma = 6.449643236708701\n",
      "\n",
      "mX = 600 GeV, sigma = 7.463569941660182\n",
      "\n",
      "mX = 650 GeV, sigma = 8.496265611736675\n",
      "\n",
      "mX = 750 GeV, sigma = 9.814703755549317\n",
      "\n",
      "mX = 800 GeV, sigma = 10.648507545960955\n",
      "\n",
      "mX = 900 GeV, sigma = 11.561600857481451\n"
     ]
    },
    {
     "data": {
      "image/png": "[encoded data removed]",
      "text/plain": [
       "<Figure size 432x288 with 1 Axes>"
      ]
     },
     "metadata": {
      "needs_background": "light"
     },
     "output_type": "display_data"
    },
    {
     "name": "stdout",
     "output_type": "stream",
     "text": [
      "mX = 250 GeV, sigma = 0.7269695409691775\n",
      "mX = 260 GeV, sigma = 0.579169638862982\n",
      "mX = 270 GeV, sigma = 0.5793481416801284\n",
      "mX = 280 GeV, sigma = 0.6578466077618594\n",
      "mX = 300 GeV, sigma = 0.9987099592009202\n",
      "mX = 320 GeV, sigma = 1.2272374793267666\n",
      "mX = 340 GeV, sigma = 1.5559439549789353\n",
      "mX = 350 GeV, sigma = 1.718833978823876\n",
      "mX = 400 GeV, sigma = 2.8282298773719106\n",
      "mX = 450 GeV, sigma = 3.9076415497741666\n",
      "mX = 500 GeV, sigma = 5.241425248505178\n",
      "mX = 550 GeV, sigma = 5.956750803216365\n",
      "mX = 600 GeV, sigma = 7.321922263292731\n",
      "mX = 650 GeV, sigma = 8.196994541726784\n",
      "mX = 750 GeV, sigma = 9.567808909365626\n",
      "mX = 800 GeV, sigma = 10.706809386005046\n",
      "mX = 900 GeV, sigma = 11.915040287306528\n"
     ]
    },
    {
     "data": {
      "image/png": "[encoded data removed]",
      "text/plain": [
       "<Figure size 432x288 with 1 Axes>"
      ]
     },
     "metadata": {
      "needs_background": "light"
     },
     "output_type": "display_data"
    }
   ],
   "source": [
    "presel = (df.q_1 + df.q_2 == 0)\n",
    "\n",
    "mX = np.array(Samples.Signal_Radion)\n",
    "print(len(mX))\n",
    "sigma = np.zeros(len(mX))\n",
    "\n",
    "for n in range(len(mX)):\n",
    "    print()\n",
    "    n_s = np.sum(df[(df.sample_id == mX[n]) & presel].weight)\n",
    "    n_b = np.sum(df[(df.sample_id > 0) & presel].weight)\n",
    "    sigma[n] = n_s / math.sqrt(n_s + n_b)\n",
    "    print('mX = {} GeV, sigma = {}'.format(-mX[n], sigma[n]))\n",
    "\n",
    "bins_x = np.linspace(0, 1000, num=50)\n",
    "bins_y = np.linspace(0, 15, num=50)\n",
    "sigma_plt = plt.hist2d(-mX[:], sigma[:], bins=[bins_x,bins_y])\n",
    "plt.show()\n",
    "          \n",
    "bb_cand_mass = df.m_bb\n",
    "tt_cand_mass = df.m_sv\n",
    "\n",
    "inside_ellipse = ((bb_cand_mass - 116.0) / 35.0)**2 + ((tt_cand_mass - 111.0) / 45.0) ** 2 < 1\n",
    "\n",
    "sigma_mass_cut = np.zeros(len(mX))\n",
    "\n",
    "for n in range(len(mX)):\n",
    "    n_s = np.sum(df[(df.sample_id == mX[n]) & presel & inside_ellipse].weight)\n",
    "    n_b = np.sum(df[(df.sample_id > 0) & presel & inside_ellipse].weight)\n",
    "    sigma_mass_cut[n] = n_s / math.sqrt(n_s + n_b)\n",
    "    print('mX = {} GeV, sigma = {}'.format(-mX[n], sigma_mass_cut[n]))\n",
    "    \n",
    "sigma_mass_cut_plt = plt.hist2d(-mX[:], sigma_mass_cut[:], bins=[bins_x,bins_y])\n",
    "plt.show()"
   ]
  },
  {
   "cell_type": "code",
   "execution_count": 22,
   "metadata": {},
   "outputs": [
    {
     "name": "stdout",
     "output_type": "stream",
     "text": [
      "mX = 250 GeV, sigma = 1.2027708350480262\n",
      "mX = 260 GeV, sigma = 0.9594741919678911\n",
      "mX = 270 GeV, sigma = 0.9597684065099032\n",
      "mX = 280 GeV, sigma = 1.0890637958491995\n",
      "mX = 300 GeV, sigma = 1.6256372466137512\n",
      "mX = 320 GeV, sigma = 2.0091748641684886\n",
      "mX = 340 GeV, sigma = 2.508476560629416\n",
      "mX = 350 GeV, sigma = 2.7492448881528797\n",
      "mX = 400 GeV, sigma = 4.476680813637419\n",
      "mX = 450 GeV, sigma = 5.8070297344842805\n",
      "mX = 500 GeV, sigma = 4.435069196019814\n",
      "mX = 550 GeV, sigma = 0.6691793293086085\n",
      "mX = 600 GeV, sigma = 0.5067225321684071\n",
      "mX = 650 GeV, sigma = 0.5091083737481752\n",
      "mX = 750 GeV, sigma = 0.347172540403939\n",
      "mX = 800 GeV, sigma = 0.3812893557136132\n",
      "mX = 900 GeV, sigma = 0.2874054628008909\n"
     ]
    },
    {
     "data": {
      "image/png": "[encoded data removed]",
      "text/plain": [
       "<Figure size 432x288 with 1 Axes>"
      ]
     },
     "metadata": {
      "needs_background": "light"
     },
     "output_type": "display_data"
    }
   ],
   "source": [
    "m_ttbb = df.m_ttbb_kinfit\n",
    "\n",
    "mX_cut_low = m_ttbb > 250\n",
    "mX_cut_high = m_ttbb < 500\n",
    "mX_cut = mX_cut_low & mX_cut_high\n",
    "\n",
    "sigma_mX_cut = np.zeros(len(mX))\n",
    "\n",
    "for n in range(len(mX)):\n",
    "    n_s = np.sum(df[(df.sample_id == mX[n]) & presel & inside_ellipse & mX_cut].weight)\n",
    "    n_b = np.sum(df[(df.sample_id > 0) & presel & inside_ellipse & mX_cut].weight)\n",
    "    sigma_mX_cut[n] = n_s / math.sqrt(n_s + n_b)\n",
    "    print('mX = {} GeV, sigma = {}'.format(-mX[n], sigma_mX_cut[n]))\n",
    "    \n",
    "bins_y_new = np.linspace(0, 6, num=50)\n",
    "sigma_mX_cut_plt = plt.hist2d(-mX[:], sigma_mX_cut[:], bins=[bins_x,bins_y_new])\n",
    "plt.show()"
   ]
  },
  {
   "cell_type": "code",
   "execution_count": null,
   "metadata": {},
   "outputs": [],
   "source": []
  }
 ],
 "metadata": {
  "kernelspec": {
   "display_name": "Python 3",
   "language": "python",
   "name": "python3"
  },
  "language_info": {
   "codemirror_mode": {
    "name": "ipython",
    "version": 3
   },
   "file_extension": ".py",
   "mimetype": "text/x-python",
   "name": "python",
   "nbconvert_exporter": "python",
   "pygments_lexer": "ipython3",
   "version": "3.6.7"
  }
 },
 "nbformat": 4,
 "nbformat_minor": 2
}
