{
 "cells": [
  {
   "cell_type": "markdown",
   "metadata": {},
   "source": [
    "Include all the packages needed for this exercise as reported below"
   ]
  },
  {
   "cell_type": "code",
   "execution_count": 1,
   "metadata": {},
   "outputs": [
    {
     "name": "stdout",
     "output_type": "stream",
     "text": [
      "Welcome to JupyROOT 6.14/06\n"
     ]
    }
   ],
   "source": [
    "import ROOT\n",
    "import numpy as np\n",
    "import matplotlib.pyplot as plt\n",
    "import math \n",
    "import statsmodels.api as sm\n",
    "import sklearn\n",
    "from sklearn.neighbors import KernelDensity\n",
    "from scipy.integrate import nquad"
   ]
  },
  {
   "cell_type": "markdown",
   "metadata": {},
   "source": [
    "Define two classes where one defines the caracteristics of a sample (name, name of file and cross-section), the other defines which setup to be fitted (center of the ellipse, radius or both) "
   ]
  },
  {
   "cell_type": "code",
   "execution_count": 2,
   "metadata": {
    "collapsed": true
   },
   "outputs": [],
   "source": [
    "class Sample:\n",
    "    def __init__(self, name, file, xs):\n",
    "        self.name = name\n",
    "        self.file = file\n",
    "        self.xs = xs\n",
    "        \n",
    "class FitSetup:\n",
    "    x0y0 = 1\n",
    "    ab = 2\n",
    "    x0y0ab = x0y0 + ab"
   ]
  },
  {
   "cell_type": "code",
   "execution_count": 3,
   "metadata": {
    "collapsed": true
   },
   "outputs": [],
   "source": [
    "#path = \"/gpfs/ddn/cms/user/cmsdas/2019/hh_bbtautau/eventTuples/\"\n",
    "path = \"/Users/Tita/Desktop/files_school/\"\n",
    "#path = \"/Volumes/Silver/cms-das-2019/hh_bbtautau/eventTuples/\"\n",
    "\n",
    "sample_list = [\n",
    "    Sample(\"Signal\", \"ggHH_SM.root\", 0.03353 * 2 * 5.809e-01 * 6.256e-02),\n",
    "    Sample(\"TT\", \"TT.root\", 831.76)\n",
    "]\n",
    "\n",
    "samples = {}\n",
    "for sample in sample_list:\n",
    "    samples[sample.name] = sample\n",
    "    \n",
    "    file = ROOT.TFile.Open(path+sample.file)\n",
    "    summary = file.Get(\"summary\")\n",
    "    sample.total_weight = 0\n",
    "    for entry in summary:\n",
    "        sample.total_weight += entry.totalShapeWeight\n",
    "    \n",
    "    tauTau = file.Get(\"tauTau\")\n",
    "    sample.events = np.zeros((tauTau.GetEntries(), 3))\n",
    "    \n",
    "    n = 0\n",
    "    for event in tauTau :\n",
    "        bb_cand = event.jets_p4[0] + event.jets_p4[1]\n",
    "        sample.events[n, 0] = bb_cand.mass()\n",
    "        sample.events[n, 1] = event.SVfit_p4.mass()\n",
    "        sample.events[n, 2] = event.weight_total\n",
    "        n += 1"
   ]
  },
  {
   "cell_type": "code",
   "execution_count": 4,
   "metadata": {},
   "outputs": [
    {
     "data": {
      "image/png": "[encoded data removed]",
      "text/plain": [
       "<matplotlib.figure.Figure at 0x7f1e7c8a32d0>"
      ]
     },
     "metadata": {},
     "output_type": "display_data"
    }
   ],
   "source": [
    "fig, ax = plt.subplots(1, 2, figsize=(10,10))\n",
    "\n",
    "n = 0\n",
    "bins_x = np.linspace(0, 400, 20)\n",
    "bins_y = np.linspace(0, 400, 20)\n",
    "for sample in sample_list:\n",
    "    ax[n].hist2d(sample.events[:, 0], sample.events[:, 1], weights=sample.events[:, 2], bins=[bins_x, bins_y])\n",
    "    ax[n].set_xlabel(r'$M_{bb}$ [GeV]')\n",
    "    ax[n].set_ylabel(r'$M_{\\tau\\tau}$ [GeV]')\n",
    "    ax[n].set_title(sample.name)\n",
    "    \n",
    "    n += 1\n",
    "#plt.subplots_adjust(bottom=0.1, right=1.5, top=1.5)\n",
    "plt.show()"
   ]
  },
  {
   "cell_type": "code",
   "execution_count": 5,
   "metadata": {
    "collapsed": true
   },
   "outputs": [],
   "source": [
    "class EllipseMinimization( ROOT.TPyMultiGenFunction ):\n",
    "    def __init__( self, samples, x0, y0, a, b, fit_setup):\n",
    "        self.samples = samples\n",
    "        self.x0 = x0\n",
    "        self.y0 = y0\n",
    "        self.a = a\n",
    "        self.b = b\n",
    "        self.fit_setup = fit_setup\n",
    "        ROOT.TPyMultiGenFunction.__init__( self, self )\n",
    "\n",
    "    def NDim(self):\n",
    "        if self.fit_setup == FitSetup.x0y0ab:\n",
    "            return 4\n",
    "        return 2\n",
    "\n",
    "    def DoEval(self, args):\n",
    "        n = 0\n",
    "        x0 = self.x0\n",
    "        y0 = self.y0\n",
    "        a = self.a\n",
    "        b = self.b\n",
    "\n",
    "        if self.fit_setup & FitSetup.x0y0 != 0:\n",
    "            x0 = args[0]\n",
    "            y0 = args[1]\n",
    "            n = 2\n",
    "        if self.fit_setup & FitSetup.ab != 0:\n",
    "            a = args[n]\n",
    "            b = args[n+1]\n",
    "        \n",
    "        n_signal = self.CalcNumEvents('Signal', x0, y0, a, b)\n",
    "        n_bkg = self.CalcNumEvents('TT', x0, y0, a, b)\n",
    "        \n",
    "        #target = -n_signal / math.sqrt(n_bkg) # better formula\n",
    "        #Discovery sensitivity for a counting experiment with background uncertainty\n",
    "        #target = math.sqrt(2*((n_signal+n_bkg)*math.log(1 + (n_signal/n_bkg)) - n_signal))\n",
    "        target = -n_signal/math.sqrt(n_signal+n_bkg)\n",
    "        #print(\"target = \", target)\n",
    "        return target\n",
    "        \n",
    "    def CalcNumEvents(self, sample_name, x0, y0, a, b):\n",
    "        sample = self.samples[sample_name]\n",
    "        x = sample.events[:, 0]\n",
    "        y = sample.events[:, 1]\n",
    "        weight = sample.events[:, 2]\n",
    "        inside_ellipse = ((x - x0) / a)**2 + ((y - y0) / b) ** 2 < 1\n",
    "        n_inside = np.sum(inside_ellipse * weight)\n",
    "        return n_inside / sample.total_weight * sample.xs"
   ]
  },
  {
   "cell_type": "code",
   "execution_count": 6,
   "metadata": {
    "collapsed": true
   },
   "outputs": [],
   "source": [
    "def FindParams(samples, x0, y0, a, b, fit_setup):\n",
    "    minimizer = ROOT.Math.Factory.CreateMinimizer(\"Minuit\", \"Combined\")\n",
    "    minimizer.SetTolerance(0.05)\n",
    "    minimizer.SetPrintLevel(2)\n",
    "    minimizer.SetStrategy(2)\n",
    "    ellipse = EllipseMinimization(samples, x0, y0, a, b, fit_setup)\n",
    "\n",
    "    minimizer.SetFunction(ellipse)\n",
    "\n",
    "    # Set the variables to be minimized!\n",
    "    c_factor = 0.1\n",
    "    r_factor = 5.0\n",
    "    n = 0\n",
    "    if fit_setup & FitSetup.x0y0 != 0:\n",
    "        minimizer.SetLimitedVariable(0, \"x0\", x0, 1, x0 * (1 - c_factor), x0 * (1 + c_factor))\n",
    "        minimizer.SetLimitedVariable(1, \"y0\", y0, 1, y0 * (1 - c_factor), y0 * (1 + c_factor))\n",
    "        n = 2\n",
    "    if fit_setup & FitSetup.ab != 0:\n",
    "        minimizer.SetLimitedVariable(n, \"a\", a, 0.1, max(2, a * (1 - r_factor)), a * (1 + r_factor))\n",
    "        minimizer.SetLimitedVariable(n + 1, \"b\", b, 0.1, max(2, b * (1 - r_factor)), b * (1 + r_factor))\n",
    "        \n",
    "    minimizer.Minimize()\n",
    "    #result = [x for ix in minimizer.X()]\n",
    "    result = [minimizer.X()[i] for i in range(ellipse.NDim())]\n",
    "    return tuple(result)"
   ]
  },
  {
   "cell_type": "code",
   "execution_count": 7,
   "metadata": {},
   "outputs": [
    {
     "name": "stdout",
     "output_type": "stream",
     "text": [
      "(118.5, 114.5)\n"
     ]
    }
   ],
   "source": [
    "sgn = samples[\"Signal\"].events\n",
    "hist, bin_edges = np.histogram(sgn[:, 0], bins=200, range=(0, 200))\n",
    "max_bin = np.argmax(hist)\n",
    "x0 = (bin_edges[max_bin] + bin_edges[max_bin + 1]) / 2\n",
    "hist, bin_edges = np.histogram(sgn[:, 1], bins=200, range=(0, 200))\n",
    "max_bin = np.argmax(hist)\n",
    "y0 = (bin_edges[max_bin] + bin_edges[max_bin + 1]) / 2\n",
    "print(x0, y0)"
   ]
  },
  {
   "cell_type": "code",
   "execution_count": 10,
   "metadata": {},
   "outputs": [
    {
     "name": "stdout",
     "output_type": "stream",
     "text": [
      "(21.621261596679688, 12.563461303710938)\n"
     ]
    }
   ],
   "source": [
    "interval = np.percentile(sgn[:, 0], [25, 75])\n",
    "a = max(x0 - interval[0], interval[1] - x0)\n",
    "interval = np.percentile(sgn[:, 1], [25, 75])\n",
    "b = max(y0 - interval[0], interval[1] - y0)\n",
    "print(a, b)"
   ]
  },
  {
   "cell_type": "code",
   "execution_count": 11,
   "metadata": {},
   "outputs": [
    {
     "name": "stdout",
     "output_type": "stream",
     "text": [
      "(115.29073588368594, 111.88941639159708)\n",
      " **********\n",
      " **    1 **SET PRINT           1\n",
      " **********\n",
      " **********\n",
      " **    2 **SET NOGRAD\n",
      " **********\n",
      " PARAMETER DEFINITIONS:\n",
      "    NO.   NAME         VALUE      STEP SIZE      LIMITS\n",
      "     1 x0           1.18500e+02  1.00000e+00    1.06650e+02  1.30350e+02\n",
      "     2 y0           1.14500e+02  1.00000e+00    1.03050e+02  1.25950e+02\n",
      " **********\n",
      " **    3 **SET ERR           1\n",
      " **********\n",
      " **********\n",
      " **    4 **SET PRINT           1\n",
      " **********\n",
      " **********\n",
      " **    5 **SET STR           2\n",
      " **********\n",
      " NOW USING STRATEGY  2: MAKE SURE MINIMUM TRUE, ERRORS CORRECT  \n",
      " **********\n",
      " **    6 **MIGRAD           0        0.05\n",
      " **********\n",
      " FIRST CALL TO USER FUNCTION AT NEW START POINT, WITH IFLAG=4.\n",
      " START MIGRAD MINIMIZATION.  STRATEGY  2.  CONVERGENCE WHEN EDM .LT. 5.00e-05\n",
      " COVARIANCE MATRIX CALCULATED SUCCESSFULLY\n",
      " FCN=-0.000259417 FROM HESSE     STATUS=OK             22 CALLS          23 TOTAL\n",
      "                     EDM=6.01064e-06    STRATEGY= 2      ERROR MATRIX ACCURATE \n",
      "  EXT PARAMETER                                   STEP         FIRST   \n",
      "  NO.   NAME      VALUE            ERROR          SIZE      DERIVATIVE \n",
      "   1  x0           1.18500e+02   1.22376e+01   5.00000e-01   1.90190e-05\n",
      "   2  y0           1.14500e+02   1.71511e+01   5.00000e-01   2.95857e-05\n",
      " MIGRAD MINIMIZATION HAS CONVERGED.\n",
      " MIGRAD WILL VERIFY CONVERGENCE AND ERROR MATRIX.\n",
      " MINUIT WARNING IN HESSE   \n",
      " ============== Negative diagonal element 1 in Error Matrix\n",
      " MINUIT WARNING IN HESSE   \n",
      " ============== Negative diagonal element 2 in Error Matrix\n",
      " MINUIT WARNING IN HESSE   \n",
      " ============== 1.00077 added to diagonal of error matrix\n",
      " COVARIANCE MATRIX CALCULATED SUCCESSFULLY\n",
      " FCN=-0.000265102 FROM MIGRAD    STATUS=CONVERGED      56 CALLS          57 TOTAL\n",
      "                     EDM=6.07886e-09    STRATEGY= 2      ERROR MATRIX ACCURATE \n",
      "  EXT PARAMETER                                   STEP         FIRST   \n",
      "  NO.   NAME      VALUE            ERROR          SIZE      DERIVATIVE \n",
      "   1  x0           1.15291e+02   1.61297e+01   6.42777e-02   4.11481e-05\n",
      "   2  y0           1.11889e+02   1.58543e+01   2.94132e-02  -6.61921e-05\n",
      " EXTERNAL ERROR MATRIX.    NDIM=  25    NPAR=  2    ERR DEF=1\n",
      "  2.601e+02 -2.518e-01 \n",
      " -2.518e-01  2.486e+02 \n",
      " PARAMETER  CORRELATION COEFFICIENTS  \n",
      "       NO.  GLOBAL      1      2\n",
      "        1  0.00099   1.000 -0.001\n",
      "        2  0.00099  -0.001  1.000\n"
     ]
    }
   ],
   "source": [
    "new_x0, new_y0 = FindParams(samples, x0, y0, a, b, FitSetup.x0y0)\n",
    "print(new_x0, new_y0)"
   ]
  },
  {
   "cell_type": "code",
   "execution_count": 12,
   "metadata": {},
   "outputs": [
    {
     "name": "stdout",
     "output_type": "stream",
     "text": [
      "(33.52660832565479, 25.579432875015133)\n",
      " **********\n",
      " **    7 **SET PRINT           1\n",
      " **********\n",
      " **********\n",
      " **    8 **SET NOGRAD\n",
      " **********\n",
      " PARAMETER DEFINITIONS:\n",
      "    NO.   NAME         VALUE      STEP SIZE      LIMITS\n",
      "     1 a            2.16213e+01  1.00000e-01    2.00000e+00  1.29728e+02\n",
      "     2 b            1.25635e+01  1.00000e-01    2.00000e+00  7.53808e+01\n",
      " **********\n",
      " **    9 **SET ERR           1\n",
      " **********\n",
      " **********\n",
      " **   10 **SET PRINT           1\n",
      " **********\n",
      " **********\n",
      " **   11 **SET STR           2\n",
      " **********\n",
      " NOW USING STRATEGY  2: MAKE SURE MINIMUM TRUE, ERRORS CORRECT  \n",
      " **********\n",
      " **   12 **MIGRAD           0        0.05\n",
      " **********\n",
      " FIRST CALL TO USER FUNCTION AT NEW START POINT, WITH IFLAG=4.\n",
      " START MIGRAD MINIMIZATION.  STRATEGY  2.  CONVERGENCE WHEN EDM .LT. 5.00e-05\n",
      " COVARIANCE MATRIX CALCULATED SUCCESSFULLY\n",
      " FCN=-0.000265102 FROM HESSE     STATUS=OK             24 CALLS          25 TOTAL\n",
      "                     EDM=9.88162e-05    STRATEGY= 2      ERROR MATRIX ACCURATE \n",
      "  EXT PARAMETER                                   STEP         FIRST   \n",
      "  NO.   NAME      VALUE            ERROR          SIZE      DERIVATIVE \n",
      "   1  a            2.16213e+01   7.00782e+01   5.00000e-01  -1.24636e-04\n",
      "   2  b            1.25635e+01   6.65519e+01   4.61094e-01  -2.42896e-04\n",
      " MIGRAD MINIMIZATION HAS CONVERGED.\n",
      " MIGRAD WILL VERIFY CONVERGENCE AND ERROR MATRIX.\n",
      " EIGENVALUES OF SECOND-DERIVATIVE MATRIX:\n",
      "        -3.0837e-01  2.3084e+00\n",
      " MINUIT WARNING IN HESSE   \n",
      " ============== MATRIX FORCED POS-DEF BY ADDING 0.310681 TO DIAGONAL.\n",
      " FCN=-0.00030295 FROM HESSE     STATUS=NOT POSDEF     18 CALLS          58 TOTAL\n",
      "                     EDM=0.000155266    STRATEGY= 2      ERR MATRIX NOT POS-DEF\n",
      "  EXT PARAMETER                APPROXIMATE        STEP         FIRST   \n",
      "  NO.   NAME      VALUE            ERROR          SIZE      DERIVATIVE \n",
      "   1  a            3.22853e+01   7.85453e+01   2.91787e-02  -6.68035e-05\n",
      "   2  b            2.57266e+01   4.81797e+01   1.06031e-02  -1.13626e-04\n",
      " MIGRAD FAILS TO FIND IMPROVEMENT\n",
      " MIGRAD MINIMIZATION HAS CONVERGED.\n",
      " MIGRAD WILL VERIFY CONVERGENCE AND ERROR MATRIX.\n",
      " COVARIANCE MATRIX CALCULATED SUCCESSFULLY\n",
      " FCN=-0.000304139 FROM HESSE     STATUS=OK             20 CALLS         144 TOTAL\n",
      "                     EDM=0.00014495    STRATEGY= 2      ERROR MATRIX ACCURATE \n",
      "  EXT PARAMETER                                   STEP         FIRST   \n",
      "  NO.   NAME      VALUE            ERROR          SIZE      DERIVATIVE \n",
      "   1  a            3.35266e+01   7.83354e+01   4.49399e-03  -1.71519e-03\n",
      "   2  b            2.55794e+01   4.69702e+01   2.72232e-03  -4.55483e-05\n",
      " MIGRAD FAILS TO FIND IMPROVEMENT\n",
      " MIGRAD TERMINATED WITHOUT CONVERGENCE.\n",
      " FCN=-0.000304139 FROM MIGRAD    STATUS=FAILED        154 CALLS         155 TOTAL\n",
      "                     EDM=0.00014495    STRATEGY= 2      ERR MATRIX APPROXIMATE\n",
      "  EXT PARAMETER                APPROXIMATE        STEP         FIRST   \n",
      "  NO.   NAME      VALUE            ERROR          SIZE      DERIVATIVE \n",
      "   1  a            3.35266e+01   7.83354e+01   0.00000e+00  -1.71519e-03\n",
      "   2  b            2.55794e+01   4.69702e+01   0.00000e+00  -4.55483e-05\n",
      " EXTERNAL ERROR MATRIX.    NDIM=  25    NPAR=  2    ERR DEF=1\n",
      "  5.853e+05  1.444e+05 \n",
      "  1.444e+05  7.323e+04 \n",
      "ERR MATRIX APPROXIMATE\n",
      " PARAMETER  CORRELATION COEFFICIENTS  \n",
      "       NO.  GLOBAL      1      2\n",
      "        1  0.69744   1.000  0.697\n",
      "        2  0.69744   0.697  1.000\n",
      " ERR MATRIX APPROXIMATE\n"
     ]
    }
   ],
   "source": [
    "new_a, new_b = FindParams(samples, new_x0, new_y0, a, b, FitSetup.ab)\n",
    "print(new_a, new_b)"
   ]
  },
  {
   "cell_type": "code",
   "execution_count": 13,
   "metadata": {},
   "outputs": [
    {
     "name": "stdout",
     "output_type": "stream",
     "text": [
      "(115.29073588368594, 111.88941639159708, 33.52660832565479, 25.579432875015133)\n",
      "(114.30635077997704, 110.95172112255295, 34.08965223952416, 24.61645917110062)\n",
      " **********\n",
      " **    1 **SET PRINT           1\n",
      " **********\n",
      " **********\n",
      " **    2 **SET NOGRAD\n",
      " **********\n",
      " PARAMETER DEFINITIONS:\n",
      "    NO.   NAME         VALUE      STEP SIZE      LIMITS\n",
      "     1 x0           1.15291e+02  1.00000e+00    1.03762e+02  1.26820e+02\n",
      "     2 y0           1.11889e+02  1.00000e+00    1.00700e+02  1.23078e+02\n",
      "     3 a            3.35266e+01  1.00000e-01    2.00000e+00  2.01160e+02\n",
      "     4 b            2.55794e+01  1.00000e-01    2.00000e+00  1.53477e+02\n",
      " **********\n",
      " **    3 **SET ERR           1\n",
      " **********\n",
      " **********\n",
      " **    4 **SET PRINT           1\n",
      " **********\n",
      " **********\n",
      " **    5 **SET STR           2\n",
      " **********\n",
      " NOW USING STRATEGY  2: MAKE SURE MINIMUM TRUE, ERRORS CORRECT  \n",
      " **********\n",
      " **    6 **MIGRAD           0        0.05\n",
      " **********\n",
      " FIRST CALL TO USER FUNCTION AT NEW START POINT, WITH IFLAG=4.\n",
      " START MIGRAD MINIMIZATION.  STRATEGY  2.  CONVERGENCE WHEN EDM .LT. 5.00e-05\n",
      " COVARIANCE MATRIX CALCULATED SUCCESSFULLY\n",
      " FCN=-0.000304139 FROM HESSE     STATUS=OK             59 CALLS          60 TOTAL\n",
      "                     EDM=1.16757e-05    STRATEGY= 2      ERROR MATRIX ACCURATE \n",
      "  EXT PARAMETER                                   STEP         FIRST   \n",
      "  NO.   NAME      VALUE            ERROR          SIZE      DERIVATIVE \n",
      "   1  x0           1.15291e+02   1.40459e+01   5.00000e-01   1.39455e-05\n",
      "   2  y0           1.11889e+02   1.54147e+01   5.00000e-01   2.97942e-05\n",
      "   3  a            3.35266e+01   1.83258e+02   5.00000e-01  -4.59369e-05\n",
      "   4  b            2.55794e+01   1.27927e+02   5.00000e-01  -4.99522e-05\n",
      " MIGRAD MINIMIZATION HAS CONVERGED.\n",
      " MIGRAD WILL VERIFY CONVERGENCE AND ERROR MATRIX.\n",
      " EIGENVALUES OF SECOND-DERIVATIVE MATRIX:\n",
      "        -2.8930e-01  6.3879e-01  1.7507e+00  1.8999e+00\n",
      " MINUIT WARNING IN HESSE   \n",
      " ============== MATRIX FORCED POS-DEF BY ADDING 0.291200 TO DIAGONAL.\n",
      " FCN=-0.000305246 FROM MIGRAD    STATUS=CONVERGED     151 CALLS         152 TOTAL\n",
      "                     EDM=3.26722e-06    STRATEGY= 2      ERR MATRIX NOT POS-DEF\n",
      "  EXT PARAMETER                APPROXIMATE        STEP         FIRST   \n",
      "  NO.   NAME      VALUE            ERROR          SIZE      DERIVATIVE \n",
      "   1  x0           1.14306e+02   1.39212e+01   1.15390e-02  -4.59242e-05\n",
      "   2  y0           1.10952e+02   1.57122e+01   1.54995e-02   1.12502e-05\n",
      "   3  a            3.40897e+01   1.76111e+02   2.35225e-03  -2.20889e-04\n",
      "   4  b            2.46165e+01   1.25639e+02   3.73196e-03   3.01389e-04\n",
      " EXTERNAL ERROR MATRIX.    NDIM=  25    NPAR=  4    ERR DEF=1\n",
      "  1.376e+07  1.506e+07  1.113e+07  1.310e+07 \n",
      "  1.506e+07  1.660e+07  1.220e+07  1.442e+07 \n",
      "  1.113e+07  1.220e+07  9.069e+06  1.061e+07 \n",
      "  1.310e+07  1.442e+07  1.061e+07  1.264e+07 \n",
      "ERR MATRIX NOT POS-DEF\n",
      " PARAMETER  CORRELATION COEFFICIENTS  \n",
      "       NO.  GLOBAL      1      2      3      4\n",
      "        1  0.99787   1.000  0.996  0.996  0.993\n",
      "        2  0.99740   0.996  1.000  0.994  0.995\n",
      "        3  0.99658   0.996  0.994  1.000  0.991\n",
      "        4  0.99536   0.993  0.995  0.991  1.000\n",
      " ERR MATRIX NOT POS-DEF\n",
      " **********\n",
      " **    7 **HESSE           0\n",
      " **********\n",
      " COVARIANCE MATRIX CALCULATED SUCCESSFULLY\n",
      " FCN=-0.000305246 FROM HESSE     STATUS=OK             55 CALLS         207 TOTAL\n",
      "                     EDM=2.19625e-05    STRATEGY= 2      ERROR MATRIX ACCURATE \n",
      "  EXT PARAMETER                                INTERNAL      INTERNAL  \n",
      "  NO.   NAME      VALUE            ERROR       STEP SIZE       VALUE   \n",
      "   1  x0           1.14306e+02   1.71537e+01   5.00000e-01  -8.54869e-02\n",
      "   2  y0           1.10952e+02   1.32936e+01   5.00000e-01  -8.39039e-02\n",
      "   3  a            3.40897e+01   1.02568e+02   5.00000e-01  -7.44698e-01\n",
      "   4  b            2.46165e+01   1.37450e+02   5.00000e-01  -7.77341e-01\n",
      " EXTERNAL ERROR MATRIX.    NDIM=  25    NPAR=  4    ERR DEF=1\n",
      "  8.676e+06  1.575e+06  3.624e+06  1.160e+06 \n",
      "  1.575e+06  3.687e+06  8.086e+05  1.015e+06 \n",
      "  3.624e+06  8.086e+05  2.555e+07  2.049e+05 \n",
      "  1.160e+06  1.015e+06  2.049e+05  8.682e+06 \n",
      " PARAMETER  CORRELATION COEFFICIENTS  \n",
      "       NO.  GLOBAL      1      2      3      4\n",
      "        1  0.36559   1.000  0.278  0.243  0.134\n",
      "        2  0.31387   0.278  1.000  0.083  0.179\n",
      "        3  0.24486   0.243  0.083  1.000  0.014\n",
      "        4  0.20068   0.134  0.179  0.014  1.000\n"
     ]
    }
   ],
   "source": [
    "final_x0, final_y0, final_a, final_b = FindParams(samples, new_x0, new_y0, new_a, new_b, FitSetup.x0y0ab)\n",
    "print(new_x0, new_y0, new_a, new_b)\n",
    "print(final_x0, final_y0, final_a, final_b)"
   ]
  },
  {
   "cell_type": "code",
   "execution_count": null,
   "metadata": {
    "collapsed": true
   },
   "outputs": [],
   "source": []
  }
 ],
 "metadata": {
  "kernelspec": {
   "display_name": "Python 3",
   "language": "python",
   "name": "python3"
  },
  "language_info": {
   "codemirror_mode": {
    "name": "ipython",
    "version": 3
   },
   "file_extension": ".py",
   "mimetype": "text/x-python",
   "name": "python",
   "nbconvert_exporter": "python",
   "pygments_lexer": "ipython3",
   "version": "3.6.7"
  }
 },
 "nbformat": 4,
 "nbformat_minor": 2
}
