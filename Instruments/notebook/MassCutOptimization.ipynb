{
 "cells": [
  {
   "cell_type": "code",
   "execution_count": 1,
   "metadata": {
    "collapsed": false
   },
   "outputs": [
    {
     "name": "stdout",
     "output_type": "stream",
     "text": [
      "Welcome to JupyROOT 6.10/09\n"
     ]
    }
   ],
   "source": [
    "import ROOT\n",
    "import numpy as np\n",
    "import matplotlib.pyplot as plt\n",
    "import math \n",
    "import statsmodels.api as sm\n",
    "import sklearn\n",
    "from sklearn.neighbors import KernelDensity\n",
    "from scipy.integrate import dblquad"
   ]
  },
  {
   "cell_type": "markdown",
   "metadata": {},
   "source": []
  },
  {
   "cell_type": "code",
   "execution_count": 2,
   "metadata": {
    "collapsed": true
   },
   "outputs": [],
   "source": [
    "samples = [\"ggHH_SM.root\", \"TT.root\"]# ,\"DYJetsToLL_M-50.root\",\"Wjets.root\"]\n",
    "path = \"/gpfs/ddn/cms/user/cmsdas/2019/hh_bbtautau/eventTuples/\"\n",
    "#path = \"/Users/Tita/Desktop/files_school/\"\n",
    "sample_name = {\"ggHH_SM.root\": \"Signal\", \"TT.root\" : \"TT\"}\n",
    "sample_files = {\"Signal\" : \"ggHH_SM.root\", \"TT\": \"TT.root\"}\n",
    "\n",
    "data = {}\n",
    "for sample in samples:\n",
    "    #print(sample)\n",
    "    file = ROOT.TFile.Open(path+sample)\n",
    "    tauTau = file.Get(\"tauTau\")\n",
    "    \n",
    "    #hist_mass = ROOT.TH2D(\"hist_mass_\"+sample,\"2D hist mass\", 250, 0, 500, 250, 0, 500);\n",
    "    \n",
    "    events = np.zeros((tauTau.GetEntries(), 2))\n",
    "    n = 0\n",
    "    for event in tauTau :\n",
    "        bb_cand = event.jets_p4[0] + event.jets_p4[1]\n",
    "        events[n, 0] = bb_cand.M()\n",
    "        events[n, 1] = event.SVfit_p4.M()\n",
    "        n += 1\n",
    "    data[sample] = events"
   ]
  },
  {
   "cell_type": "code",
   "execution_count": 3,
   "metadata": {
    "collapsed": false
   },
   "outputs": [
    {
     "data": {
      "image/png": "[encoded data removed]",
      "text/plain": [
       "<matplotlib.figure.Figure at 0x7f3ef4479f90>"
      ]
     },
     "metadata": {},
     "output_type": "display_data"
    }
   ],
   "source": [
    "fig, ax = plt.subplots(1, 2, figsize=(10,10))\n",
    "\n",
    "n = 0\n",
    "bins_x = np.linspace(0, 400, 20)\n",
    "bins_y = np.linspace(0, 400, 20)\n",
    "for sample, events in data.items():\n",
    "    ax[n].hist2d(events[:, 0], events[:, 1], bins=[bins_x, bins_y])\n",
    "    ax[n].set_xlabel(r'$M_{bb}$ [GeV]')\n",
    "    ax[n].set_ylabel(r'$M_{\\tau\\tau}$ [GeV]')\n",
    "    ax[n].set_title(sample_name[sample])\n",
    "    \n",
    "    n += 1\n",
    "#plt.subplots_adjust(bottom=0.1, right=1.5, top=1.5)\n",
    "plt.show()"
   ]
  },
  {
   "cell_type": "code",
   "execution_count": 4,
   "metadata": {
    "collapsed": true
   },
   "outputs": [],
   "source": [
    "class EllipseMinimization( ROOT.TPyMultiGenFunction ):\n",
    "    def __init__( self, data) : #what_to_fit, a, b, x0, y0):\n",
    "        #self.data = data\n",
    "        #self.a = param0\n",
    "        #self.b = param1\n",
    "        #self.x0 = param2\n",
    "        #self.y0 = param3\n",
    "        ROOT.TPyMultiGenFunction.__init__( self, self )\n",
    "\n",
    "    def NDim(self):\n",
    "        print('PYTHON NDim called')\n",
    "        return 4\n",
    "\n",
    "    def DoEval(self, args):\n",
    "        x0 = args[0]\n",
    "        a = args[1]\n",
    "        y0 = args[2]\n",
    "        b = args[3]\n",
    "        \n",
    "        n_signal = self.CalcNumEvents('ggHH_SM.root', x0, a, y0, b)\n",
    "        n_bkg = self.CalcNumEvents('TT.root', x0, a, y0, b)\n",
    "        \n",
    "        #target = n_signal / math.sqrt(n_bkg) # better formula\n",
    "        #Discovery sensitivity for a counting experiment with background uncertainty\n",
    "        #target = math.sqrt(2*((n_signal+n_bkg)*math.log(1 + (n_signal/n_bkg)) - n_signal))\n",
    "        target = n_signal/math.sqrt(n_signal+n_bkg)\n",
    "        print(\"target = \", target)\n",
    "        return target\n",
    "    \n",
    "    def CalcNumEvents(self, sample, x0, a, y0, b):\n",
    "        events = data[sample]\n",
    "        x = events[:, 0]\n",
    "        y = events[:, 1]\n",
    "        weight = events[:, 2]\n",
    "        weight_total = np.sum(weight)\n",
    "        inside_ellipse = (((x-x0)**2) / (a*a) + ((y-y0)**2)/(b*b)) < 1\n",
    "        n_inside = np.sum(inside_ellipse * weight)\n",
    "        print(\"params: \", x0, a, y0, b)\n",
    "        print(sample, \" num entries: \", np.count_nonzero(inside_ellipse))\n",
    "        return n_inside / weight_total\n",
    "        \n",
    "    \n",
    "def FindParams(x0, a, y0, b, data):\n",
    "    min = ROOT.Math.Factory.CreateMinimizer(\"Minuit\", \"Combined\")\n",
    "    #min.SetMaxFunctionCalls(1000000)\n",
    "    #min.SetMaxIterations(100000)\n",
    "    #min.SetTolerance(0.001)\n",
    "    min.SetPrintLevel(2)\n",
    "    ellipse = EllipseMinimization(data)\n",
    "\n",
    "    step = [10,10,10,10]\n",
    "    variable = [x0,a,y0,b]\n",
    "\n",
    "    min.SetFunction(ellipse)\n",
    "\n",
    "    # Set the free variables to be minimized!\n",
    "    min.SetVariable(0,\"x0\",variable[0], step[0])\n",
    "    min.SetVariable(1,\"a\",variable[1], step[1])\n",
    "    min.SetVariable(2,\"y0\",variable[2], step[2])\n",
    "    min.SetVariable(3,\"b\",variable[3], step[3])\n",
    "    \n",
    "    min.Minimize()\n",
    "    \n",
    "    x0 = min.X()[0]\n",
    "    a = min.X()[1]\n",
    "    y0 = min.X()[2]\n",
    "    b = min.X()[3]\n",
    "    \n",
    "    \n",
    "    print(\"Final\", x0, a, y0, b)\n",
    "    "
   ]
  },
  {
   "cell_type": "code",
   "execution_count": 5,
   "metadata": {
    "collapsed": false
   },
   "outputs": [
    {
     "name": "stdout",
     "output_type": "stream",
     "text": [
      "159.96306146787208\n",
      "117.04371164725576\n"
     ]
    }
   ],
   "source": [
    "mean = np.mean(data[sample_files[\"Signal\"]], axis=0)\n",
    "print(mean[0])\n",
    "print(mean[1])"
   ]
  },
  {
   "cell_type": "code",
   "execution_count": 6,
   "metadata": {
    "collapsed": false
   },
   "outputs": [
    {
     "data": {
      "text/plain": [
       "array([167.85582204,  40.32194555])"
      ]
     },
     "execution_count": 6,
     "metadata": {},
     "output_type": "execute_result"
    }
   ],
   "source": [
    "std = np.std(data[sample_files[\"Signal\"]], axis=0)\n",
    "std"
   ]
  },
  {
   "cell_type": "code",
   "execution_count": 7,
   "metadata": {
    "collapsed": false
   },
   "outputs": [
    {
     "data": {
      "image/png": "[encoded data removed]",
      "text/plain": [
       "<matplotlib.figure.Figure at 0x7f3ef4479890>"
      ]
     },
     "metadata": {},
     "output_type": "display_data"
    }
   ],
   "source": [
    "plt.hist(data[sample_files[\"Signal\"]][:, 0])\n",
    "plt.show()"
   ]
  },
  {
   "cell_type": "code",
   "execution_count": 8,
   "metadata": {
    "collapsed": false
   },
   "outputs": [
    {
     "data": {
      "text/plain": [
       "167.85582204451285"
      ]
     },
     "execution_count": 8,
     "metadata": {},
     "output_type": "execute_result"
    }
   ],
   "source": [
    "np.std(data[sample_files[\"Signal\"]][:, 0])"
   ]
  },
  {
   "cell_type": "code",
   "execution_count": 9,
   "metadata": {
    "collapsed": false
   },
   "outputs": [
    {
     "name": "stdout",
     "output_type": "stream",
     "text": [
      "PYTHON NDim called\n"
     ]
    },
    {
     "ename": "IndexError",
     "evalue": "index 2 is out of bounds for axis 1 with size 2",
     "output_type": "error",
     "traceback": [
      "\u001b[0;31m\u001b[0m",
      "\u001b[0;31mIndexError\u001b[0mTraceback (most recent call last)",
      "\u001b[0;32m<ipython-input-4-32a4e27c898d>\u001b[0m in \u001b[0;36mDoEval\u001b[0;34m(self, args)\u001b[0m\n\u001b[1;32m     18\u001b[0m         \u001b[0mb\u001b[0m \u001b[0;34m=\u001b[0m \u001b[0margs\u001b[0m\u001b[0;34m[\u001b[0m\u001b[0;36m3\u001b[0m\u001b[0;34m]\u001b[0m\u001b[0;34m\u001b[0m\u001b[0m\n\u001b[1;32m     19\u001b[0m \u001b[0;34m\u001b[0m\u001b[0m\n\u001b[0;32m---> 20\u001b[0;31m         \u001b[0mn_signal\u001b[0m \u001b[0;34m=\u001b[0m \u001b[0mself\u001b[0m\u001b[0;34m.\u001b[0m\u001b[0mCalcNumEvents\u001b[0m\u001b[0;34m(\u001b[0m\u001b[0;34m'ggHH_SM.root'\u001b[0m\u001b[0;34m,\u001b[0m \u001b[0mx0\u001b[0m\u001b[0;34m,\u001b[0m \u001b[0ma\u001b[0m\u001b[0;34m,\u001b[0m \u001b[0my0\u001b[0m\u001b[0;34m,\u001b[0m \u001b[0mb\u001b[0m\u001b[0;34m)\u001b[0m\u001b[0;34m\u001b[0m\u001b[0m\n\u001b[0m\u001b[1;32m     21\u001b[0m         \u001b[0mn_bkg\u001b[0m \u001b[0;34m=\u001b[0m \u001b[0mself\u001b[0m\u001b[0;34m.\u001b[0m\u001b[0mCalcNumEvents\u001b[0m\u001b[0;34m(\u001b[0m\u001b[0;34m'TT.root'\u001b[0m\u001b[0;34m,\u001b[0m \u001b[0mx0\u001b[0m\u001b[0;34m,\u001b[0m \u001b[0ma\u001b[0m\u001b[0;34m,\u001b[0m \u001b[0my0\u001b[0m\u001b[0;34m,\u001b[0m \u001b[0mb\u001b[0m\u001b[0;34m)\u001b[0m\u001b[0;34m\u001b[0m\u001b[0m\n\u001b[1;32m     22\u001b[0m \u001b[0;34m\u001b[0m\u001b[0m\n",
      "\u001b[0;32m<ipython-input-4-32a4e27c898d>\u001b[0m in \u001b[0;36mCalcNumEvents\u001b[0;34m(self, sample, x0, a, y0, b)\u001b[0m\n\u001b[1;32m     32\u001b[0m         \u001b[0mx\u001b[0m \u001b[0;34m=\u001b[0m \u001b[0mevents\u001b[0m\u001b[0;34m[\u001b[0m\u001b[0;34m:\u001b[0m\u001b[0;34m,\u001b[0m \u001b[0;36m0\u001b[0m\u001b[0;34m]\u001b[0m\u001b[0;34m\u001b[0m\u001b[0m\n\u001b[1;32m     33\u001b[0m         \u001b[0my\u001b[0m \u001b[0;34m=\u001b[0m \u001b[0mevents\u001b[0m\u001b[0;34m[\u001b[0m\u001b[0;34m:\u001b[0m\u001b[0;34m,\u001b[0m \u001b[0;36m1\u001b[0m\u001b[0;34m]\u001b[0m\u001b[0;34m\u001b[0m\u001b[0m\n\u001b[0;32m---> 34\u001b[0;31m         \u001b[0mweight\u001b[0m \u001b[0;34m=\u001b[0m \u001b[0mevents\u001b[0m\u001b[0;34m[\u001b[0m\u001b[0;34m:\u001b[0m\u001b[0;34m,\u001b[0m \u001b[0;36m2\u001b[0m\u001b[0;34m]\u001b[0m\u001b[0;34m\u001b[0m\u001b[0m\n\u001b[0m\u001b[1;32m     35\u001b[0m         \u001b[0mweight_total\u001b[0m \u001b[0;34m=\u001b[0m \u001b[0mnp\u001b[0m\u001b[0;34m.\u001b[0m\u001b[0msum\u001b[0m\u001b[0;34m(\u001b[0m\u001b[0mweight\u001b[0m\u001b[0;34m)\u001b[0m\u001b[0;34m\u001b[0m\u001b[0m\n\u001b[1;32m     36\u001b[0m         \u001b[0minside_ellipse\u001b[0m \u001b[0;34m=\u001b[0m \u001b[0;34m(\u001b[0m\u001b[0;34m(\u001b[0m\u001b[0;34m(\u001b[0m\u001b[0mx\u001b[0m\u001b[0;34m-\u001b[0m\u001b[0mx0\u001b[0m\u001b[0;34m)\u001b[0m\u001b[0;34m**\u001b[0m\u001b[0;36m2\u001b[0m\u001b[0;34m)\u001b[0m \u001b[0;34m/\u001b[0m \u001b[0;34m(\u001b[0m\u001b[0ma\u001b[0m\u001b[0;34m*\u001b[0m\u001b[0ma\u001b[0m\u001b[0;34m)\u001b[0m \u001b[0;34m+\u001b[0m \u001b[0;34m(\u001b[0m\u001b[0;34m(\u001b[0m\u001b[0my\u001b[0m\u001b[0;34m-\u001b[0m\u001b[0my0\u001b[0m\u001b[0;34m)\u001b[0m\u001b[0;34m**\u001b[0m\u001b[0;36m2\u001b[0m\u001b[0;34m)\u001b[0m\u001b[0;34m/\u001b[0m\u001b[0;34m(\u001b[0m\u001b[0mb\u001b[0m\u001b[0;34m*\u001b[0m\u001b[0mb\u001b[0m\u001b[0;34m)\u001b[0m\u001b[0;34m)\u001b[0m \u001b[0;34m<\u001b[0m \u001b[0;36m1\u001b[0m\u001b[0;34m\u001b[0m\u001b[0m\n",
      "\u001b[0;31mIndexError\u001b[0m: index 2 is out of bounds for axis 1 with size 2"
     ]
    },
    {
     "ename": "Exception",
     "evalue": "bool TMinuitMinimizer::Minimize() =>\n    Failure in TPyMultiGenFunction::DoEval (C++ exception of type runtime_error)",
     "output_type": "error",
     "traceback": [
      "\u001b[0;31m\u001b[0m",
      "\u001b[0;31mException\u001b[0mTraceback (most recent call last)",
      "\u001b[0;32m<ipython-input-9-6b9f6d917741>\u001b[0m in \u001b[0;36m<module>\u001b[0;34m()\u001b[0m\n\u001b[0;32m----> 1\u001b[0;31m \u001b[0mFindParams\u001b[0m\u001b[0;34m(\u001b[0m\u001b[0mmean\u001b[0m\u001b[0;34m[\u001b[0m\u001b[0;36m0\u001b[0m\u001b[0;34m]\u001b[0m\u001b[0;34m,\u001b[0m \u001b[0;36m40\u001b[0m\u001b[0;34m,\u001b[0m \u001b[0mmean\u001b[0m\u001b[0;34m[\u001b[0m\u001b[0;36m1\u001b[0m\u001b[0;34m]\u001b[0m\u001b[0;34m,\u001b[0m \u001b[0;36m40\u001b[0m\u001b[0;34m,\u001b[0m \u001b[0mdata\u001b[0m\u001b[0;34m)\u001b[0m\u001b[0;34m\u001b[0m\u001b[0m\n\u001b[0m",
      "\u001b[0;32m<ipython-input-4-32a4e27c898d>\u001b[0m in \u001b[0;36mFindParams\u001b[0;34m(x0, a, y0, b, data)\u001b[0m\n\u001b[1;32m     60\u001b[0m     \u001b[0mmin\u001b[0m\u001b[0;34m.\u001b[0m\u001b[0mSetVariable\u001b[0m\u001b[0;34m(\u001b[0m\u001b[0;36m3\u001b[0m\u001b[0;34m,\u001b[0m\u001b[0;34m\"b\"\u001b[0m\u001b[0;34m,\u001b[0m\u001b[0mvariable\u001b[0m\u001b[0;34m[\u001b[0m\u001b[0;36m3\u001b[0m\u001b[0;34m]\u001b[0m\u001b[0;34m,\u001b[0m \u001b[0mstep\u001b[0m\u001b[0;34m[\u001b[0m\u001b[0;36m3\u001b[0m\u001b[0;34m]\u001b[0m\u001b[0;34m)\u001b[0m\u001b[0;34m\u001b[0m\u001b[0m\n\u001b[1;32m     61\u001b[0m \u001b[0;34m\u001b[0m\u001b[0m\n\u001b[0;32m---> 62\u001b[0;31m     \u001b[0mmin\u001b[0m\u001b[0;34m.\u001b[0m\u001b[0mMinimize\u001b[0m\u001b[0;34m(\u001b[0m\u001b[0;34m)\u001b[0m\u001b[0;34m\u001b[0m\u001b[0m\n\u001b[0m\u001b[1;32m     63\u001b[0m \u001b[0;34m\u001b[0m\u001b[0m\n\u001b[1;32m     64\u001b[0m     \u001b[0mx0\u001b[0m \u001b[0;34m=\u001b[0m \u001b[0mmin\u001b[0m\u001b[0;34m.\u001b[0m\u001b[0mX\u001b[0m\u001b[0;34m(\u001b[0m\u001b[0;34m)\u001b[0m\u001b[0;34m[\u001b[0m\u001b[0;36m0\u001b[0m\u001b[0;34m]\u001b[0m\u001b[0;34m\u001b[0m\u001b[0m\n",
      "\u001b[0;31mException\u001b[0m: bool TMinuitMinimizer::Minimize() =>\n    Failure in TPyMultiGenFunction::DoEval (C++ exception of type runtime_error)"
     ]
    },
    {
     "name": "stdout",
     "output_type": "stream",
     "text": [
      " **********\n",
      " **    1 **SET PRINT           1\n",
      " **********\n",
      " **********\n",
      " **    2 **SET NOGRAD\n",
      " **********\n",
      " PARAMETER DEFINITIONS:\n",
      "    NO.   NAME         VALUE      STEP SIZE      LIMITS\n",
      "     1 x0           1.59963e+02  1.00000e+01     no limits\n",
      "     2 a            4.00000e+01  1.00000e+01     no limits\n",
      "     3 y0           1.17044e+02  1.00000e+01     no limits\n",
      "     4 b            4.00000e+01  1.00000e+01     no limits\n",
      " **********\n",
      " **    3 **SET ERR           1\n",
      " **********\n",
      " **********\n",
      " **    4 **SET PRINT           1\n",
      " **********\n",
      " **********\n",
      " **    5 **SET STR           1\n",
      " **********\n",
      " NOW USING STRATEGY  1: TRY TO BALANCE SPEED AGAINST RELIABILITY\n",
      " **********\n",
      " **    6 **MIGRAD           0        0.01\n",
      " **********\n",
      " FIRST CALL TO USER FUNCTION AT NEW START POINT, WITH IFLAG=4.\n"
     ]
    }
   ],
   "source": [
    "FindParams(mean[0], 40, mean[1], 40, data)"
   ]
  },
  {
   "cell_type": "code",
   "execution_count": 10,
   "metadata": {
    "collapsed": true
   },
   "outputs": [],
   "source": [
    "ellipse = EllipseMinimization(data)"
   ]
  },
  {
   "cell_type": "code",
   "execution_count": 20,
   "metadata": {
    "collapsed": false
   },
   "outputs": [
    {
     "name": "stdout",
     "output_type": "stream",
     "text": [
      "num entries:  650\n"
     ]
    },
    {
     "data": {
      "text/plain": [
       "0.014418639412300904"
      ]
     },
     "execution_count": 20,
     "metadata": {},
     "output_type": "execute_result"
    }
   ],
   "source": [
    "ellipse.CalcNumEvents(sample_files[\"Signal\"], 151.907, 10, 112.916, 10)"
   ]
  },
  {
   "cell_type": "code",
   "execution_count": 21,
   "metadata": {
    "collapsed": false
   },
   "outputs": [
    {
     "name": "stdout",
     "output_type": "stream",
     "text": [
      "num entries:  54379\n"
     ]
    },
    {
     "data": {
      "text/plain": [
       "1.0"
      ]
     },
     "execution_count": 21,
     "metadata": {},
     "output_type": "execute_result"
    }
   ],
   "source": [
    "ellipse.CalcNumEvents(sample_files[\"TT\"], 151.907, 876426,  112.916, 148022)"
   ]
  },
  {
   "cell_type": "code",
   "execution_count": 22,
   "metadata": {
    "collapsed": false
   },
   "outputs": [
    {
     "data": {
      "text/plain": [
       "(45803, 3)"
      ]
     },
     "execution_count": 22,
     "metadata": {},
     "output_type": "execute_result"
    }
   ],
   "source": [
    "data[sample_files[\"Signal\"]].shape"
   ]
  },
  {
   "cell_type": "code",
   "execution_count": 12,
   "metadata": {
    "collapsed": false
   },
   "outputs": [],
   "source": [
    "#dens = sm.nonparametric.KDEUnivariate(data[sample_files[\"Signal\"]][:, 0])\n",
    "dens = KernelDensity(bandwidth=5, kernel='epanechnikov')\n",
    "#dens.fit(data[sample_files[\"Signal\"]][:, 0].reshape(-1, 1))\n",
    "dens.fit(data[sample_files[\"Signal\"]])\n",
    "\n",
    "dens_map = {}\n",
    "for sample, events in data.iteritems():\n",
    "    dens_map[sample] = KernelDensity(bandwidth=5, kernel='tophat')\n",
    "    dens_map[sample].fit(events)"
   ]
  },
  {
   "cell_type": "code",
   "execution_count": 16,
   "metadata": {
    "collapsed": false
   },
   "outputs": [
    {
     "ename": "AttributeError",
     "evalue": "'KernelDensity' object has no attribute 'shape'",
     "output_type": "error",
     "traceback": [
      "\u001b[0;31m\u001b[0m",
      "\u001b[0;31mAttributeError\u001b[0mTraceback (most recent call last)",
      "\u001b[0;32m<ipython-input-16-f0a28d5b4ab2>\u001b[0m in \u001b[0;36m<module>\u001b[0;34m()\u001b[0m\n\u001b[1;32m      2\u001b[0m \u001b[0;34m\u001b[0m\u001b[0m\n\u001b[1;32m      3\u001b[0m \u001b[0;31m#plt.scatter(bins, np.exp(dens.score_samples(bins.reshape(-1, 1))))\u001b[0m\u001b[0;34m\u001b[0m\u001b[0;34m\u001b[0m\u001b[0m\n\u001b[0;32m----> 4\u001b[0;31m \u001b[0;32mprint\u001b[0m\u001b[0;34m(\u001b[0m\u001b[0mdens_map\u001b[0m\u001b[0;34m[\u001b[0m\u001b[0msample_files\u001b[0m\u001b[0;34m[\u001b[0m\u001b[0;34m\"Signal\"\u001b[0m\u001b[0;34m]\u001b[0m\u001b[0;34m]\u001b[0m\u001b[0;34m.\u001b[0m\u001b[0mshape\u001b[0m\u001b[0;34m)\u001b[0m\u001b[0;34m\u001b[0m\u001b[0m\n\u001b[0m\u001b[1;32m      5\u001b[0m \u001b[0mplt\u001b[0m\u001b[0;34m.\u001b[0m\u001b[0mscatter\u001b[0m\u001b[0;34m(\u001b[0m\u001b[0mbins\u001b[0m\u001b[0;34m,\u001b[0m \u001b[0mnp\u001b[0m\u001b[0;34m.\u001b[0m\u001b[0mexp\u001b[0m\u001b[0;34m(\u001b[0m\u001b[0mdens_map\u001b[0m\u001b[0;34m[\u001b[0m\u001b[0msample_files\u001b[0m\u001b[0;34m[\u001b[0m\u001b[0;34m\"Signal\"\u001b[0m\u001b[0;34m]\u001b[0m\u001b[0;34m]\u001b[0m\u001b[0;34m.\u001b[0m\u001b[0mscore_samples\u001b[0m\u001b[0;34m(\u001b[0m\u001b[0mbins\u001b[0m\u001b[0;34m.\u001b[0m\u001b[0mreshape\u001b[0m\u001b[0;34m(\u001b[0m\u001b[0;36m1\u001b[0m\u001b[0;34m,\u001b[0m \u001b[0;34m-\u001b[0m\u001b[0;36m1\u001b[0m\u001b[0;34m)\u001b[0m\u001b[0;34m)\u001b[0m\u001b[0;34m)\u001b[0m\u001b[0;34m)\u001b[0m\u001b[0;34m\u001b[0m\u001b[0m\n\u001b[1;32m      6\u001b[0m \u001b[0mplt\u001b[0m\u001b[0;34m.\u001b[0m\u001b[0mshow\u001b[0m\u001b[0;34m(\u001b[0m\u001b[0;34m)\u001b[0m\u001b[0;34m\u001b[0m\u001b[0m\n",
      "\u001b[0;31mAttributeError\u001b[0m: 'KernelDensity' object has no attribute 'shape'"
     ]
    }
   ],
   "source": [
    "bins = np.linspace(50, 150, 1000)\n",
    "\n",
    "#plt.scatter(bins, np.exp(dens.score_samples(bins.reshape(-1, 1))))\n",
    "print(dens_map[sample_files[\"Signal\"]].shape)\n",
    "plt.scatter(bins, np.exp(dens_map[sample_files[\"Signal\"]].score_samples(bins.reshape(1, -1))))\n",
    "plt.show()"
   ]
  },
  {
   "cell_type": "code",
   "execution_count": 3,
   "metadata": {
    "collapsed": false
   },
   "outputs": [
    {
     "data": {
      "text/plain": [
       "'0.18.1'"
      ]
     },
     "execution_count": 3,
     "metadata": {},
     "output_type": "execute_result"
    }
   ],
   "source": [
    "sklearn.__version__"
   ]
  },
  {
   "cell_type": "code",
   "execution_count": 14,
   "metadata": {
    "collapsed": false
   },
   "outputs": [
    {
     "data": {
      "image/png": "[encoded data removed]",
      "text/plain": [
       "<matplotlib.figure.Figure at 0x7f3ec16095d0>"
      ]
     },
     "metadata": {},
     "output_type": "display_data"
    }
   ],
   "source": [
    "bins = np.linspace(50, 150, 100)\n",
    "#sample = dens.sample(10000)\n",
    "sample = dens_map[sample_files[\"Signal\"]].sample(10000)\n",
    "bins_x = np.linspace(0, 400, 20)\n",
    "bins_y = np.linspace(0, 400, 20)\n",
    "plt.hist2d(sample[:,0],sample[:,1],bins=[bins_x,bins_y])\n",
    "plt.show()"
   ]
  },
  {
   "cell_type": "code",
   "execution_count": 20,
   "metadata": {
    "collapsed": false
   },
   "outputs": [
    {
     "data": {
      "text/plain": [
       "0.000185972468699313"
      ]
     },
     "execution_count": 20,
     "metadata": {},
     "output_type": "execute_result"
    }
   ],
   "source": [
    "math.exp(dens.score(np.array([100, 100]).reshape(1, -1)))"
   ]
  },
  {
   "cell_type": "code",
   "execution_count": 16,
   "metadata": {
    "collapsed": false
   },
   "outputs": [
    {
     "data": {
      "text/plain": [
       "(3.1415926535897967, 2.000470900043183e-09)"
      ]
     },
     "execution_count": 16,
     "metadata": {},
     "output_type": "execute_result"
    }
   ],
   "source": [
    "def fn_sqrt(x):\n",
    "    return ...\n",
    "\n",
    "dblquad(lambda x, y: math.exp(self.dens[sample].score(np.array([x, y]).reshape(1, -1))), x0-a, x0,\n",
    "        lambda x: -math.sqrt(1- ((x - 100) / 20) ** 2),\n",
    "        lambda x: y0 + fn_sqrt(x)"
   ]
  },
  {
   "cell_type": "code",
   "execution_count": null,
   "metadata": {
    "collapsed": true
   },
   "outputs": [],
   "source": []
  }
 ],
 "metadata": {
  "kernelspec": {
   "display_name": "Python 2",
   "language": "python",
   "name": "python2"
  },
  "language_info": {
   "codemirror_mode": {
    "name": "ipython",
    "version": 2
   },
   "file_extension": ".py",
   "mimetype": "text/x-python",
   "name": "python",
   "nbconvert_exporter": "python",
   "pygments_lexer": "ipython2",
   "version": "2.7.11"
  }
 },
 "nbformat": 4,
 "nbformat_minor": 2
}
