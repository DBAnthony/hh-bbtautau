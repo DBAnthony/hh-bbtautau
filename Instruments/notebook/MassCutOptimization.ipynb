{
 "cells": [
  {
   "cell_type": "markdown",
   "metadata": {},
   "source": [
    "Include all the packages needed for this exercise as reported below"
   ]
  },
  {
   "cell_type": "code",
   "execution_count": 1,
   "metadata": {
    "collapsed": false
   },
   "outputs": [
    {
     "name": "stdout",
     "output_type": "stream",
     "text": [
      "Welcome to JupyROOT 6.10/09\n"
     ]
    }
   ],
   "source": [
    "import ROOT\n",
    "import numpy as np\n",
    "import matplotlib.pyplot as plt\n",
    "import math \n",
    "import statsmodels.api as sm\n",
    "import sklearn\n",
    "from sklearn.neighbors import KernelDensity\n",
    "from scipy.integrate import nquad\n",
    "import uproot\n",
    "import pandas"
   ]
  },
  {
   "cell_type": "markdown",
   "metadata": {},
   "source": [
    "Define two classes where one defines the caracteristics of a sample (name, sample identification and cross-section), the other defines which setup to be fitted (center of the ellipse, radius or both) "
   ]
  },
  {
   "cell_type": "code",
   "execution_count": 2,
   "metadata": {
    "collapsed": true
   },
   "outputs": [],
   "source": [
    "class Sample:\n",
    "    def __init__(self, name, sample_id, xs):\n",
    "        self.name = name\n",
    "        #self.file = file\n",
    "        self.sample_id = sample_id\n",
    "        self.xs = xs\n",
    "        \n",
    "class FitSetup:\n",
    "    x0y0 = 1\n",
    "    ab = 2\n",
    "    x0y0ab = x0y0 + ab"
   ]
  },
  {
   "cell_type": "markdown",
   "metadata": {},
   "source": [
    "In the following parts open the files, called \"anaTuples\", where already a selection is applied (Central energy scale).\n",
    "\n",
    "Specify for the two samples we want to analyze, Signal SM and TT, their cross-sections and their sample id (please refer to the exercise of significance estimation)."
   ]
  },
  {
   "cell_type": "code",
   "execution_count": 4,
   "metadata": {
    "collapsed": false
   },
   "outputs": [],
   "source": [
    "#path = \"/gpfs/ddn/cms/user/cmsdas/2019/hh_bbtautau/eventTuples/\"\n",
    "#path = \"/Users/Tita/Desktop/files_school/\"\n",
    "#path = \"/Volumes/Silver/cms-das-2019/hh_bbtautau/eventTuples/\"\n",
    "\n",
    "path = \"/gpfs/ddn/cms/user/cmsdas/2019/hh_bbtautau/anaTuples/\"\n",
    "#path = \"/Users/Tita/Desktop/Run2_analysis_hh_bbtautau/anaTuples/\"\n",
    "#path = \"./anaTuples/\"\n",
    "\n",
    "anaTuples = {'eTau': \"eTau_tuple.root\", 'muTau': \"muTau_tuple.root\", 'tauTau': \"tauTau_tuple.root\"} \n",
    "channel = \"tauTau\"\n",
    "\n",
    "sample_list = [\n",
    "    Sample(\"Signal\", -125, 0.03353 * 2 * 5.809e-01 * 6.256e-02),\n",
    "    Sample(\"TT\", 1, 831.76)\n",
    "]\n",
    "\n",
    "with uproot.open(path+anaTuples[channel]) as file:\n",
    "        tree = file[channel]\n",
    "        df = tree.arrays('*', outputtype=pandas.DataFrame)    \n",
    "        total_weight = np.sum(df.weight)\n",
    "\n",
    "samples = {}\n",
    "for sample in sample_list:\n",
    "    samples[sample.name] = sample\n",
    "    \n",
    "    "
   ]
  },
  {
   "cell_type": "markdown",
   "metadata": {},
   "source": [
    "Make the plot for both Signal and TT of mass of Higgs into bb candidate and of Higgs into tau pair candidate, in order to view the different behaviour of the signal and of the background. What can you notice?"
   ]
  },
  {
   "cell_type": "code",
   "execution_count": 5,
   "metadata": {
    "collapsed": false
   },
   "outputs": [
    {
     "data": {
      "image/png": "[encoded data removed]",
      "text/plain": [
       "<matplotlib.figure.Figure at 0x7fcf345bdfd0>"
      ]
     },
     "metadata": {},
     "output_type": "display_data"
    }
   ],
   "source": [
    "fig, ax = plt.subplots(1, 2, figsize=(10,10))\n",
    "\n",
    "n = 0\n",
    "bins_x = np.linspace(0, 400, 20)\n",
    "bins_y = np.linspace(0, 400, 20)\n",
    "for sample in sample_list:\n",
    "    ax[n].hist2d(df[(df.sample_id == sample.sample_id)].m_bb, df[(df.sample_id == sample.sample_id)].m_sv, \n",
    "                 weights=df[(df.sample_id == sample.sample_id)].weight, bins=[bins_x, bins_y])\n",
    "    ax[n].set_xlabel(r'$M_{bb}$ [GeV]')\n",
    "    ax[n].set_ylabel(r'$M_{\\tau\\tau}$ [GeV]')\n",
    "    ax[n].set_title(sample.name)\n",
    "    \n",
    "    n += 1\n",
    "#plt.subplots_adjust(bottom=0.1, right=1.5, top=1.5)\n",
    "plt.show()"
   ]
  },
  {
   "cell_type": "markdown",
   "metadata": {},
   "source": [
    "Look at the code for the minimization of the ellipse cut around mbb and mtautau. Here it is first calculated how to do it with 2 paramenters (the center of the ellipse or the radius of the ellipse), then also there is the possiblity to have a fit of 4 parameters"
   ]
  },
  {
   "cell_type": "code",
   "execution_count": 11,
   "metadata": {
    "collapsed": true
   },
   "outputs": [],
   "source": [
    "class EllipseMinimization( ROOT.TPyMultiGenFunction ):\n",
    "    def __init__( self, samples, x0, y0, a, b, fit_setup):\n",
    "        self.samples = samples\n",
    "        self.x0 = x0\n",
    "        self.y0 = y0\n",
    "        self.a = a\n",
    "        self.b = b\n",
    "        self.fit_setup = fit_setup\n",
    "        ROOT.TPyMultiGenFunction.__init__( self, self )\n",
    "\n",
    "    def NDim(self):\n",
    "        if self.fit_setup == FitSetup.x0y0ab:\n",
    "            return 4\n",
    "        return 2\n",
    "\n",
    "    def DoEval(self, args):\n",
    "        n = 0\n",
    "        x0 = self.x0\n",
    "        y0 = self.y0\n",
    "        a = self.a\n",
    "        b = self.b\n",
    "\n",
    "        if self.fit_setup & FitSetup.x0y0 != 0:\n",
    "            x0 = args[0]\n",
    "            y0 = args[1]\n",
    "            n = 2\n",
    "        if self.fit_setup & FitSetup.ab != 0:\n",
    "            a = args[n]\n",
    "            b = args[n+1]\n",
    "        \n",
    "        n_signal = self.CalcNumEvents('Signal', x0, y0, a, b)\n",
    "        n_bkg = self.CalcNumEvents('TT', x0, y0, a, b)\n",
    "        print(n_signal,n_bkg)\n",
    "        \n",
    "        #target = -n_signal / math.sqrt(n_bkg) # better formula\n",
    "        #Discovery sensitivity for a counting experiment with background uncertainty\n",
    "        #target = math.sqrt(2*((n_signal+n_bkg)*math.log(1 + (n_signal/n_bkg)) - n_signal))\n",
    "        target = -n_signal/math.sqrt(n_signal+n_bkg)\n",
    "        #print(\"target = \", target)\n",
    "        return target\n",
    "        \n",
    "    def CalcNumEvents(self, sample_name, x0, y0, a, b):\n",
    "        sample = self.samples[sample_name]\n",
    "        x = df.m_bb\n",
    "        y = df.m_sv\n",
    "        weight = df.weight\n",
    "        inside_ellipse = ((x - x0) / a)**2 + ((y - y0) / b) ** 2 < 1\n",
    "        n_inside = np.sum(inside_ellipse * weight)\n",
    "        return n_inside / total_weight * sample.xs"
   ]
  },
  {
   "cell_type": "code",
   "execution_count": 12,
   "metadata": {
    "collapsed": true
   },
   "outputs": [],
   "source": [
    "def FindParams(samples, x0, y0, a, b, fit_setup):\n",
    "    minimizer = ROOT.Math.Factory.CreateMinimizer(\"Minuit\", \"Combined\")\n",
    "    minimizer.SetTolerance(0.05)\n",
    "    minimizer.SetPrintLevel(2)\n",
    "    minimizer.SetStrategy(2)\n",
    "    ellipse = EllipseMinimization(samples, x0, y0, a, b, fit_setup)\n",
    "\n",
    "    minimizer.SetFunction(ellipse)\n",
    "\n",
    "    # Set the variables to be minimized!\n",
    "    c_factor = 0.1\n",
    "    r_factor = 5.0\n",
    "    n = 0\n",
    "    if fit_setup & FitSetup.x0y0 != 0:\n",
    "        minimizer.SetLimitedVariable(0, \"x0\", x0, 1, x0 * (1 - c_factor), x0 * (1 + c_factor))\n",
    "        minimizer.SetLimitedVariable(1, \"y0\", y0, 1, y0 * (1 - c_factor), y0 * (1 + c_factor))\n",
    "        n = 2\n",
    "    if fit_setup & FitSetup.ab != 0:\n",
    "        minimizer.SetLimitedVariable(n, \"a\", a, 0.1, max(2, a * (1 - r_factor)), a * (1 + r_factor))\n",
    "        minimizer.SetLimitedVariable(n + 1, \"b\", b, 0.1, max(2, b * (1 - r_factor)), b * (1 + r_factor))\n",
    "        \n",
    "    minimizer.Minimize()\n",
    "    #result = [x for ix in minimizer.X()]\n",
    "    result = [minimizer.X()[i] for i in range(ellipse.NDim())]\n",
    "    return tuple(result)"
   ]
  },
  {
   "cell_type": "markdown",
   "metadata": {},
   "source": [
    "Now you have to choose a starting point for the minimization. Here following it is for the center values, taking the indices of the maximum values for the mass candidate and their bin extremis."
   ]
  },
  {
   "cell_type": "code",
   "execution_count": 13,
   "metadata": {
    "collapsed": false
   },
   "outputs": [
    {
     "name": "stdout",
     "output_type": "stream",
     "text": [
      "(115.5, 114.5)\n"
     ]
    }
   ],
   "source": [
    "sgn_id = samples[\"Signal\"].sample_id\n",
    "hist, bin_edges = np.histogram(df[(df.sample_id == sgn_id)].m_bb, bins=200, range=(0, 200))\n",
    "max_bin = np.argmax(hist)\n",
    "x0 = (bin_edges[max_bin] + bin_edges[max_bin + 1]) / 2\n",
    "hist, bin_edges = np.histogram(df[(df.sample_id == sgn_id)].m_sv, bins=200, range=(0, 200))\n",
    "max_bin = np.argmax(hist)\n",
    "y0 = (bin_edges[max_bin] + bin_edges[max_bin + 1]) / 2\n",
    "print(x0, y0)"
   ]
  },
  {
   "cell_type": "markdown",
   "metadata": {},
   "source": [
    "Here following it is for the radius values using the percentiles."
   ]
  },
  {
   "cell_type": "code",
   "execution_count": 14,
   "metadata": {
    "collapsed": false
   },
   "outputs": [
    {
     "name": "stdout",
     "output_type": "stream",
     "text": [
      "(23.739181518554688, 12.567741394042969)\n"
     ]
    }
   ],
   "source": [
    "interval = np.percentile(df[(df.sample_id == sgn_id)].m_bb, [25, 75])\n",
    "a = max(x0 - interval[0], interval[1] - x0)\n",
    "interval = np.percentile(df[(df.sample_id == sgn_id)].m_sv, [25, 75])\n",
    "b = max(y0 - interval[0], interval[1] - y0)\n",
    "print(a, b)"
   ]
  },
  {
   "cell_type": "markdown",
   "metadata": {},
   "source": [
    "Calculate new center parameters starting from the calculated one"
   ]
  },
  {
   "cell_type": "code",
   "execution_count": 15,
   "metadata": {
    "collapsed": false
   },
   "outputs": [
    {
     "name": "stdout",
     "output_type": "stream",
     "text": [
      "(0.00015244934718798865, 52.030971428036054)\n",
      "(0.00015244934718798865, 52.030971428036054)\n",
      "(0.0001522588063687352, 51.96593983488514)\n",
      "(0.00015256028376352872, 52.068834087986524)\n",
      "(0.000145100606752688, 49.52284587240686)\n",
      "(0.00015428967233843558, 52.659074513339036)\n",
      "(0.00015240291859415083, 52.01512534614736)\n",
      "(0.00015264646081329368, 52.098246320290436)\n",
      "(0.0001420608465023138, 48.48537551485744)\n",
      "(0.00015181527750839283, 51.8145634079889)\n",
      "(0.00015151014815228424, 51.71042274026952)\n",
      "(0.00015379153588163908, 52.48906051046579)\n",
      "(0.00015227924556181552, 51.97291573272132)\n",
      "(0.00015279416665619323, 52.14865833341754)\n",
      "(0.0001523308308295369, 51.99052178771878)\n",
      "(0.0001524682692204012, 52.03742951884444)\n",
      "(0.0001519123757770647, 51.847703052967155)\n",
      "(0.00015331107677893257, 52.325079789614065)\n",
      "(0.00015234988519194977, 51.99702504276428)\n",
      "(0.00015286479675225877, 52.17276438948228)\n",
      "(0.00013601893667113232, 46.42327132355958)\n",
      "(0.00015599484678072346, 53.2410506537622)\n",
      "(0.00015651976627605057, 53.42020570930799)\n",
      "(0.00015615907521788236, 53.29710182931069)\n",
      "(0.00015631738222255924, 53.35113201959444)\n",
      "(0.00015579184275674597, 53.17176536808417)\n",
      "(0.00015545824554716873, 53.057908620251844)\n",
      "(0.00015496381951436488, 52.88916098531202)\n",
      "(0.00015424712347802386, 52.644552584703625)\n",
      "(0.00015097110419279276, 51.526447004249)\n",
      "(0.0001537350082491373, 52.469767626069455)\n",
      "(0.00015170124363791154, 51.775643641087406)\n",
      "(0.00015419158025172026, 52.62559567820235)\n",
      "(0.00015651976627605057, 53.42020570930799)\n",
      "(0.00015496381951436488, 52.88916098531202)\n",
      "(0.00015424712347802386, 52.644552584703625)\n",
      "(0.00015170124363791154, 51.775643641087406)\n",
      "(0.00015419158025172026, 52.62559567820235)\n",
      "(0.0001562490976370242, 53.32782648641582)\n",
      "(0.00015631959897416452, 53.35188859705158)\n",
      "(0.00015656942917992078, 53.43715566140663)\n",
      "(0.00015640404536956348, 53.38071015691557)\n",
      "(0.00015657726599006483, 53.43983036518342)\n",
      "(0.00015646028938233895, 53.39990624188213)\n",
      "(0.00015653927121087407, 53.42686274474454)\n",
      "(0.00015648556700433592, 53.408533495800576)\n",
      "(0.0001565123804324357, 53.41768492043493)\n",
      "(0.00015651976627605057, 53.42020570930799)\n",
      "(0.00015577842661175504, 53.16718643698624)\n",
      "(0.00015627584158983083, 53.336954199128414)\n",
      "(0.0001517057896035547, 51.777195179436745)\n",
      "(110.04546869123286, 112.52788696125533)\n",
      " **********\n",
      " **    7 **SET PRINT           1\n",
      " **********\n",
      " **********\n",
      " **    8 **SET NOGRAD\n",
      " **********\n",
      " PARAMETER DEFINITIONS:\n",
      "    NO.   NAME         VALUE      STEP SIZE      LIMITS\n",
      "     1 x0           1.15500e+02  1.00000e+00    1.03950e+02  1.27050e+02\n",
      "     2 y0           1.14500e+02  1.00000e+00    1.03050e+02  1.25950e+02\n",
      " **********\n",
      " **    9 **SET ERR           1\n",
      " **********\n",
      " **********\n",
      " **   10 **SET PRINT           1\n",
      " **********\n",
      " **********\n",
      " **   11 **SET STR           2\n",
      " **********\n",
      " NOW USING STRATEGY  2: MAKE SURE MINIMUM TRUE, ERRORS CORRECT  \n",
      " **********\n",
      " **   12 **MIGRAD           0        0.05\n",
      " **********\n",
      " FIRST CALL TO USER FUNCTION AT NEW START POINT, WITH IFLAG=4.\n",
      " START MIGRAD MINIMIZATION.  STRATEGY  2.  CONVERGENCE WHEN EDM .LT. 5.00e-05\n",
      " COVARIANCE MATRIX CALCULATED SUCCESSFULLY\n",
      " FCN=-2.11346e-05 FROM HESSE     STATUS=OK             20 CALLS          21 TOTAL\n",
      "                     EDM=3.27891e-07    STRATEGY= 2      ERROR MATRIX ACCURATE \n",
      "  EXT PARAMETER                                   STEP         FIRST   \n",
      "  NO.   NAME      VALUE            ERROR          SIZE      DERIVATIVE \n",
      "   1  x0           1.15500e+02   1.59758e+01   5.00000e-01   8.92062e-07\n",
      "   2  y0           1.14500e+02   1.26875e+01   5.00000e-01   4.84511e-07\n",
      " MIGRAD MINIMIZATION HAS CONVERGED.\n",
      " MIGRAD WILL VERIFY CONVERGENCE AND ERROR MATRIX.\n",
      " COVARIANCE MATRIX CALCULATED SUCCESSFULLY\n",
      " FCN=-2.14149e-05 FROM MIGRAD    STATUS=CONVERGED      50 CALLS          51 TOTAL\n",
      "                     EDM=5.34302e-06    STRATEGY= 2      ERROR MATRIX ACCURATE \n",
      "  EXT PARAMETER                                   STEP         FIRST   \n",
      "  NO.   NAME      VALUE            ERROR          SIZE      DERIVATIVE \n",
      "   1  x0           1.10045e+02   2.00366e+01   3.90659e-01  -2.93892e-06\n",
      "   2  y0           1.12528e+02   1.44493e+01   3.50839e-01   2.42858e-07\n",
      " EXTERNAL ERROR MATRIX.    NDIM=  25    NPAR=  2    ERR DEF=1\n",
      "  1.321e+08  2.859e+07 \n",
      "  2.859e+07  6.983e+07 \n",
      " PARAMETER  CORRELATION COEFFICIENTS  \n",
      "       NO.  GLOBAL      1      2\n",
      "        1  0.29764   1.000  0.298\n",
      "        2  0.29764   0.298  1.000\n"
     ]
    }
   ],
   "source": [
    "new_x0, new_y0 = FindParams(samples, x0, y0, a, b, FitSetup.x0y0)\n",
    "print(new_x0, new_y0)"
   ]
  },
  {
   "cell_type": "markdown",
   "metadata": {},
   "source": [
    "Calculate new radius parameters starting from the starting point for radius and the calculated one for centers"
   ]
  },
  {
   "cell_type": "code",
   "execution_count": 16,
   "metadata": {
    "collapsed": false
   },
   "outputs": [
    {
     "name": "stdout",
     "output_type": "stream",
     "text": [
      "(0.00015651976627605057, 53.42020570930799)\n",
      "(0.00015651976627605057, 53.42020570930799)\n",
      "(0.00015656049689680252, 53.4341070726374)\n",
      "(0.00015646464271430285, 53.401392034345065)\n",
      "(0.0001613452594175369, 55.067146810743175)\n",
      "(0.0001512543952345189, 51.62313425394707)\n",
      "(0.0002713746588560338, 92.62018750280238)\n",
      "(3.8564058761343283e-05, 13.161915590797939)\n",
      "(0.00015662259704801455, 53.45530185800703)\n",
      "(0.0001564134276189292, 53.3839123191923)\n",
      "(0.00016683298419710002, 56.94010761036063)\n",
      "(0.00014526614276522986, 49.57934332351274)\n",
      "(0.00028524461194489974, 97.35400333203698)\n",
      "(4.553877417692828e-05, 15.542386384546138)\n",
      "(0.0001809301156018311, 61.751459412558596)\n",
      "(0.0001294393452408026, 44.17765636990887)\n",
      "(0.00018383140578412011, 62.741669927484395)\n",
      "(0.00012862558233498063, 43.89991904086798)\n",
      "(0.00016147814813857695, 55.11250173928227)\n",
      "(0.00015067292329570077, 51.42467784601281)\n",
      "(0.0005099718190840894, 174.0534127387752)\n",
      "(0.0010718985762412975, 365.8390489884478)\n",
      "(0.00013199930437187804, 45.051370576383476)\n",
      "(3.9929879556874846e-05, 13.628070311030939)\n",
      "(0.00025270364827580685, 86.24777046100026)\n",
      "(8.53199179239484e-06, 2.9119693154665787)\n",
      "(0.00035881877112327413, 122.46486831548108)\n",
      "(0.001275232631343958, 435.23697430948727)\n",
      "(0.0001910321119774776, 65.19927138737302)\n",
      "(4.463046855857831e-05, 15.232381621993662)\n",
      "(0.000135972025499026, 46.40726053767862)\n",
      "(6.097453970066714e-05, 20.810614092633028)\n",
      "(0.0013534919994905403, 461.9469013975306)\n",
      "(0.0011539840149096254, 393.85481417728096)\n",
      "(0.001331415914401148, 454.41233221952905)\n",
      "(0.001200062377374999, 409.5813620773525)\n",
      "(0.0012392473400774913, 422.9551922208683)\n",
      "(0.0012983509551346324, 443.1272596193573)\n",
      "(0.00122960623414107, 419.66468218087437)\n",
      "(0.0013014851131938137, 444.19694795476954)\n",
      "(0.0003337016652991893, 113.892398576556)\n",
      "(0.0008730122424715623, 297.95913122770287)\n",
      "(6.379884980127973e-05, 21.774551301020537)\n",
      "(7.355961509453053e-05, 25.105901086747348)\n",
      "(0.0008411868744561347, 287.0971311966006)\n",
      "(0.00027963476473411144, 95.4393621392463)\n",
      "(0.0013732280726923933, 468.68282437659695)\n",
      "(0.0010866880815266638, 370.8867080380388)\n",
      "(0.000664586070236012, 226.8232660208148)\n",
      "(0.00012696509663751547, 43.333195171759286)\n",
      "(0.001072110767741119, 365.91146996018784)\n",
      "(0.001383577389404207, 472.21504679712365)\n",
      "(0.0013604046721747557, 464.3061970033048)\n",
      "(0.0013964691214731198, 476.6149957330043)\n",
      "(0.0013290101089308735, 453.5912306668218)\n",
      "(0.0014322936642932977, 488.8419143671695)\n",
      "(0.0012936514440760596, 441.52331621045033)\n",
      "(0.0011266430414767746, 384.5233382888001)\n",
      "(0.0005207717725538653, 177.73943751208628)\n",
      "(0.001384921578936567, 472.67381876592617)\n",
      "(0.0010568926543329691, 360.71752693233316)\n",
      "(0.0013563442973002595, 462.92039081273117)\n",
      "(0.0004854318178654234, 165.6779088366307)\n",
      "(0.0012586000179831587, 429.560262362127)\n",
      "(0.0013735718108127272, 468.8001422178847)\n",
      "(0.0013844537475524706, 472.5141478862008)\n",
      "(0.0013673187352558993, 466.6659671516349)\n",
      "(0.001381974729288944, 471.6680588027226)\n",
      "(0.0014476702448224029, 494.0899422330035)\n",
      "(0.0013012856627026136, 444.1288754900437)\n",
      "(0.000475712747405513, 162.36078950004813)\n",
      "(5.36461008248062e-05, 18.309417460470133)\n",
      "(0.0013861336755835163, 473.08750742493805)\n",
      "(0.001376909550961907, 469.9393131329429)\n",
      "(0.001374961672847544, 469.27450221454177)\n",
      "(0.0014464559007087482, 493.6754865134689)\n",
      "(0.001306903532647671, 446.04625484252637)\n",
      "(0.0013861336755835163, 473.08750742493805)\n",
      "(0.001376909550961907, 469.9393131329429)\n",
      "(0.001374961672847544, 469.27450221454177)\n",
      "(0.0014464559007087482, 493.6754865134689)\n",
      "(0.001306903532647671, 446.04625484252637)\n",
      "(0.001385984057242528, 473.0364426760974)\n",
      "(0.0013855159511584646, 472.8766780412567)\n",
      "(0.0013861589868963628, 473.0961461775455)\n",
      "(0.001386100440954239, 473.07616444395285)\n",
      "(0.0013994127410707437, 477.6196532799475)\n",
      "(0.0013722338848398987, 468.3435080023296)\n",
      "(0.0014372884824244523, 490.5466460978332)\n",
      "(142.42124029617642, 63.38936392286523)\n",
      " **********\n",
      " **   13 **SET PRINT           1\n",
      " **********\n",
      " **********\n",
      " **   14 **SET NOGRAD\n",
      " **********\n",
      " PARAMETER DEFINITIONS:\n",
      "    NO.   NAME         VALUE      STEP SIZE      LIMITS\n",
      "     1 a            2.37392e+01  1.00000e-01    2.00000e+00  1.42435e+02\n",
      "     2 b            1.25677e+01  1.00000e-01    2.00000e+00  7.54064e+01\n",
      " **********\n",
      " **   15 **SET ERR           1\n",
      " **********\n",
      " **********\n",
      " **   16 **SET PRINT           1\n",
      " **********\n",
      " **********\n",
      " **   17 **SET STR           2\n",
      " **********\n",
      " NOW USING STRATEGY  2: MAKE SURE MINIMUM TRUE, ERRORS CORRECT  \n",
      " **********\n",
      " **   18 **MIGRAD           0        0.05\n",
      " **********\n",
      " FIRST CALL TO USER FUNCTION AT NEW START POINT, WITH IFLAG=4.\n",
      " START MIGRAD MINIMIZATION.  STRATEGY  2.  CONVERGENCE WHEN EDM .LT. 5.00e-05\n",
      " COVARIANCE MATRIX CALCULATED SUCCESSFULLY\n",
      " FCN=-2.14149e-05 FROM HESSE     STATUS=OK             20 CALLS          21 TOTAL\n",
      "                     EDM=0.000719504    STRATEGY= 2      ERROR MATRIX ACCURATE \n",
      "  EXT PARAMETER                                   STEP         FIRST   \n",
      "  NO.   NAME      VALUE            ERROR          SIZE      DERIVATIVE \n",
      "   1  a            2.37392e+01   8.04596e+01   5.00000e-01  -1.77495e-05\n",
      "   2  b            1.25677e+01   4.18799e+01   5.00000e-01  -1.85086e-05\n",
      " MINUIT WARNING IN MIGRAD  \n",
      " ============== Negative diagonal element 1 in Error Matrix\n",
      " MINUIT WARNING IN MIGRAD  \n",
      " ============== Negative diagonal element 2 in Error Matrix\n",
      " MINUIT WARNING IN MIGRAD  \n",
      " ============== 1.44593e+07 added to diagonal of error matrix\n",
      " EIGENVALUES OF SECOND-DERIVATIVE MATRIX:\n",
      "        -4.4859e+03  4.4879e+03\n",
      " MINUIT WARNING IN MIGRAD  \n",
      " ============== MATRIX FORCED POS-DEF BY ADDING 4490.373565 TO DIAGONAL.\n",
      " MIGRAD MINIMIZATION HAS CONVERGED.\n",
      " MIGRAD WILL VERIFY CONVERGENCE AND ERROR MATRIX.\n",
      " COVARIANCE MATRIX CALCULATED SUCCESSFULLY\n",
      " FCN=-6.37285e-05 FROM MIGRAD    STATUS=CONVERGED      88 CALLS          89 TOTAL\n",
      "                     EDM=5.12886e-06    STRATEGY= 2      ERROR MATRIX ACCURATE \n",
      "  EXT PARAMETER                                   STEP         FIRST   \n",
      "  NO.   NAME      VALUE            ERROR          SIZE      DERIVATIVE \n",
      "   1  a            1.42421e+02   1.07690e+02   3.95021e-01  -6.81118e-08\n",
      "   2  b            6.33894e+01   5.69106e+01   2.21309e-01  -7.05869e-06\n",
      " EXTERNAL ERROR MATRIX.    NDIM=  25    NPAR=  2    ERR DEF=1\n",
      "  1.292e+06  1.709e+05 \n",
      "  1.709e+05  1.518e+08 \n",
      " PARAMETER  CORRELATION COEFFICIENTS  \n",
      "       NO.  GLOBAL      1      2\n",
      "        1  0.01220   1.000  0.012\n",
      "        2  0.01220   0.012  1.000\n"
     ]
    }
   ],
   "source": [
    "new_a, new_b = FindParams(samples, new_x0, new_y0, a, b, FitSetup.ab)\n",
    "print(new_a, new_b)"
   ]
  },
  {
   "cell_type": "markdown",
   "metadata": {},
   "source": [
    "Calculate the final parameters fitting the 4 paramteres starting from the center and radius values obtained by previus fit"
   ]
  },
  {
   "cell_type": "code",
   "execution_count": 17,
   "metadata": {
    "collapsed": false
   },
   "outputs": [
    {
     "name": "stdout",
     "output_type": "stream",
     "text": [
      "(0.0013861336755835163, 473.08750742493805)\n",
      "(0.0013861336755835163, 473.08750742493805)\n",
      "(0.0013861399390311458, 473.0896451399933)\n",
      "(0.0013861463161327124, 473.0918216451442)\n",
      "(0.0013845924670967574, 472.56149287506713)\n",
      "(0.0013862313491915961, 473.1208434332911)\n",
      "(0.0013868143919035243, 473.3198359461829)\n",
      "(0.001385542639020544, 472.8857866102007)\n",
      "(0.0014161895157897527, 483.34556750759555)\n",
      "(0.001351617545185013, 461.3071500295317)\n",
      "(0.0013861555935570286, 473.09498803062525)\n",
      "(0.00138611793874864, 473.08213644224173)\n",
      "(0.0013881294850839403, 473.7686773283048)\n",
      "(0.0013843376605524123, 472.47452738605034)\n",
      "(0.001499314944821249, 511.71628147036284)\n",
      "(0.0008323516784645283, 284.08167826958027)\n",
      "(0.0015269182450266521, 521.137289502203)\n",
      "(0.0004539049263778589, 154.91777886256477)\n",
      "(0.0013863207423440696, 473.1513533216442)\n",
      "(0.0013860057527798689, 473.0438473643058)\n",
      "(0.0013977166235840763, 477.04076827902617)\n",
      "(0.0013745560476269953, 469.1360623022026)\n",
      "(0.0019054337956943674, 650.324669869096)\n",
      "(0.0004125794932954568, 140.8134060487526)\n",
      "(0.0013859833319818805, 473.0361951445945)\n",
      "(0.0013863477033106489, 473.16055510117053)\n",
      "(0.001386084087077356, 473.07058286478235)\n",
      "(0.0013862215871107133, 473.1175116344946)\n",
      "(0.0013930061499503102, 475.4330833425418)\n",
      "(0.0013794007039433511, 470.78954379638134)\n",
      "(0.0014114866915708594, 481.7404933168706)\n",
      "(0.0013550362408372757, 462.47395106269505)\n",
      "(0.0013920330889465682, 475.10097756303327)\n",
      "(0.0013805688413126953, 471.1882291512843)\n",
      "(0.0014762948624653554, 503.8595259681332)\n",
      "(0.0012917424991860064, 440.8717932038639)\n",
      "(0.0014041013074171456, 479.2198612579277)\n",
      "(0.0013679537940011683, 466.88271273985623)\n",
      "(0.0014143314667463974, 482.7114152565695)\n",
      "(0.0015277804339170313, 521.431554622706)\n",
      "(0.0015548459064471138, 530.6690020363869)\n",
      "(0.0019072425167435277, 650.9419864727158)\n",
      "(0.0019242911242683405, 656.7606772534477)\n",
      "(0.0020535551106277356, 700.8784836265119)\n",
      "(0.0019813781308866785, 676.2444760696415)\n",
      "(0.0020278927377748836, 692.1199142176456)\n",
      "(0.002092365444607474, 714.1244529642634)\n",
      "(0.0022145776919317395, 755.835500377564)\n",
      "(0.002331100844246088, 795.6048593194319)\n",
      "(0.00236159485533278, 806.0124671501258)\n",
      "(0.0023607811517890264, 805.7347500813624)\n",
      "(0.0023618484251149738, 806.0990105321455)\n",
      "(0.0023595113376401783, 805.301362435457)\n",
      "(0.002363126802903248, 806.5353209487057)\n",
      "(0.00236774072606102, 808.1100532018858)\n",
      "(0.0023536451772677167, 803.2992415450641)\n",
      "(0.002379835067181761, 812.2378525588631)\n",
      "(0.002321525400752582, 792.3367598751815)\n",
      "(0.002362844343292561, 806.4389174664717)\n",
      "(0.0023597775581210728, 805.3922235017093)\n",
      "(0.0023623632769638318, 806.2747294993417)\n",
      "(0.0023407148970964976, 798.8861361395317)\n",
      "(0.00236159485533278, 806.0124671501258)\n",
      "(0.0023607811517890264, 805.7347500813624)\n",
      "(0.0023618484251149738, 806.0990105321455)\n",
      "(0.0023595113376401783, 805.301362435457)\n",
      "(0.002363126802903248, 806.5353209487057)\n",
      "(0.002379835067181761, 812.2378525588631)\n",
      "(0.002321525400752582, 792.3367598751815)\n",
      "(0.0023623632769638318, 806.2747294993417)\n",
      "(0.0023407148970964976, 798.8861361395317)\n",
      "(0.002361464491448191, 805.9679739484202)\n",
      "(0.0023616904301694084, 806.0450868476554)\n",
      "(0.0023615780742888867, 806.0067397788287)\n",
      "(0.002361644631610063, 806.029455796577)\n",
      "(0.002361054451116249, 805.8280271582953)\n",
      "(0.002361980494375952, 806.1440857789158)\n",
      "(0.0023615415595343546, 805.9942772908954)\n",
      "(0.0023616564976874236, 806.0335056894988)\n",
      "(0.002366316812335674, 807.624071361189)\n",
      "(0.00235567987165435, 803.9936828624491)\n",
      "(0.002362663822234629, 806.3773056184665)\n",
      "(0.0023604631733874734, 805.6262240336547)\n",
      "(0.002363034378715147, 806.5037765677093)\n",
      "(0.002359383862679987, 805.2578552238234)\n",
      "(0.0023619635989591487, 806.1383193721375)\n",
      "(0.002361080891396083, 805.8370512274039)\n",
      "(0.002361658326831347, 806.0341299764307)\n",
      "(0.002361524378219921, 805.9884133072387)\n",
      "(0.0023587515476487684, 805.0420460653737)\n",
      "(0.002379634778630952, 812.1694940643421)\n",
      "(0.002377974975241495, 811.6030030669978)\n",
      "(0.0023615569434343726, 805.9995278169033)\n",
      "(0.00236012073879659, 805.5093510870474)\n",
      "(0.002380596680170608, 812.4977911180821)\n",
      "(110.04546869123286, 112.52788696125533, 142.42124029617642, 63.38936392286523)\n",
      "(120.00385791668974, 116.51582424029613, 350.605144606032, 373.3349436979507)\n",
      " **********\n",
      " **    1 **SET PRINT           1\n",
      " **********\n",
      " **********\n",
      " **    2 **SET NOGRAD\n",
      " **********\n",
      " PARAMETER DEFINITIONS:\n",
      "    NO.   NAME         VALUE      STEP SIZE      LIMITS\n",
      "     1 x0           1.10045e+02  1.00000e+00    9.90409e+01  1.21050e+02\n",
      "     2 y0           1.12528e+02  1.00000e+00    1.01275e+02  1.23781e+02\n",
      "     3 a            1.42421e+02  1.00000e-01    2.00000e+00  8.54527e+02\n",
      "     4 b            6.33894e+01  1.00000e-01    2.00000e+00  3.80336e+02\n",
      " **********\n",
      " **    3 **SET ERR           1\n",
      " **********\n",
      " **********\n",
      " **    4 **SET PRINT           1\n",
      " **********\n",
      " **********\n",
      " **    5 **SET STR           2\n",
      " **********\n",
      " NOW USING STRATEGY  2: MAKE SURE MINIMUM TRUE, ERRORS CORRECT  \n",
      " **********\n",
      " **    6 **MIGRAD           0        0.05\n",
      " **********\n",
      " FIRST CALL TO USER FUNCTION AT NEW START POINT, WITH IFLAG=4.\n",
      " START MIGRAD MINIMIZATION.  STRATEGY  2.  CONVERGENCE WHEN EDM .LT. 5.00e-05\n",
      " COVARIANCE MATRIX CALCULATED SUCCESSFULLY\n",
      " FCN=-6.37285e-05 FROM HESSE     STATUS=OK             43 CALLS          44 TOTAL\n",
      "                     EDM=1.08312e-05    STRATEGY= 2      ERROR MATRIX ACCURATE \n",
      "  EXT PARAMETER                                   STEP         FIRST   \n",
      "  NO.   NAME      VALUE            ERROR          SIZE      DERIVATIVE \n",
      "   1  x0           1.10045e+02   1.50838e+01   5.00000e-01   4.18801e-08\n",
      "   2  y0           1.12528e+02   1.56840e+01   5.00000e-01  -1.56377e-06\n",
      "   3  a            1.42421e+02   4.27009e+02   5.00000e-01  -1.32516e-05\n",
      "   4  b            6.33894e+01   2.92034e+02   5.00000e-01  -3.60865e-05\n",
      " MIGRAD MINIMIZATION HAS CONVERGED.\n",
      " MIGRAD WILL VERIFY CONVERGENCE AND ERROR MATRIX.\n",
      " COVARIANCE MATRIX CALCULATED SUCCESSFULLY\n",
      " FCN=-8.31829e-05 FROM MIGRAD    STATUS=CONVERGED      94 CALLS          95 TOTAL\n",
      "                     EDM=8.54407e-07    STRATEGY= 2      ERROR MATRIX ACCURATE \n",
      "  EXT PARAMETER                                   STEP         FIRST   \n",
      "  NO.   NAME      VALUE            ERROR          SIZE      DERIVATIVE \n",
      "   1  x0           1.20004e+02   1.88857e+01   5.00000e-01   1.98958e-08\n",
      "   2  y0           1.16516e+02   1.52112e+01   5.00000e-01   8.15468e-08\n",
      "   3  a            3.50605e+02   5.87285e+02   2.70360e-01  -1.79193e-06\n",
      "   4  b            3.73335e+02   2.19144e+02   5.00000e-01  -3.88653e-07\n",
      " EXTERNAL ERROR MATRIX.    NDIM=  25    NPAR=  4    ERR DEF=1\n",
      "  1.160e+09  2.850e+08  1.630e+09 -6.348e+06 \n",
      "  2.850e+08  5.800e+09  1.692e+09 -2.203e+08 \n",
      "  1.630e+09  1.692e+09  6.875e+10 -6.544e+07 \n",
      " -6.348e+06 -2.203e+08 -6.544e+07  3.670e+09 \n",
      " PARAMETER  CORRELATION COEFFICIENTS  \n",
      "       NO.  GLOBAL      1      2      3      4\n",
      "        1  0.20559   1.000  0.110  0.182 -0.003\n",
      "        2  0.13647   0.110  1.000  0.085 -0.048\n",
      "        3  0.19372   0.182  0.085  1.000 -0.004\n",
      "        4  0.04781  -0.003 -0.048 -0.004  1.000\n"
     ]
    }
   ],
   "source": [
    "final_x0, final_y0, final_a, final_b = FindParams(samples, new_x0, new_y0, new_a, new_b, FitSetup.x0y0ab)\n",
    "print(new_x0, new_y0, new_a, new_b)\n",
    "print(final_x0, final_y0, final_a, final_b)"
   ]
  },
  {
   "cell_type": "code",
   "execution_count": null,
   "metadata": {
    "collapsed": true
   },
   "outputs": [],
   "source": []
  }
 ],
 "metadata": {
  "kernelspec": {
   "display_name": "Python 2",
   "language": "python",
   "name": "python2"
  },
  "language_info": {
   "codemirror_mode": {
    "name": "ipython",
    "version": 2
   },
   "file_extension": ".py",
   "mimetype": "text/x-python",
   "name": "python",
   "nbconvert_exporter": "python",
   "pygments_lexer": "ipython2",
   "version": "2.7.11"
  }
 },
 "nbformat": 4,
 "nbformat_minor": 2
}
