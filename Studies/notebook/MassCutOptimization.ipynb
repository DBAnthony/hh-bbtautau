{
 "cells": [
  {
   "cell_type": "markdown",
   "metadata": {},
   "source": [
    "Include all the packages needed for this exercise as reported below"
   ]
  },
  {
   "cell_type": "code",
   "execution_count": null,
   "metadata": {},
   "outputs": [],
   "source": [
    "import ROOT\n",
    "import numpy as np\n",
    "import matplotlib.pyplot as plt\n",
    "import math \n",
    "import statsmodels.api as sm\n",
    "import sklearn\n",
    "from sklearn.neighbors import KernelDensity\n",
    "from scipy.integrate import nquad\n",
    "import uproot\n",
    "import pandas"
   ]
  },
  {
   "cell_type": "markdown",
   "metadata": {},
   "source": [
    "Define two classes where one defines the caracteristics of a sample (name and sample identification), the other defines which setup to be fitted (center of the ellipse, radius or both) "
   ]
  },
  {
   "cell_type": "code",
   "execution_count": null,
   "metadata": {},
   "outputs": [],
   "source": [
    "class Sample:\n",
    "    Signal_NonRes = -125\n",
    "    TT = 1\n",
    "        \n",
    "class FitSetup:\n",
    "    x0y0 = 1\n",
    "    ab = 2\n",
    "    x0y0ab = x0y0 + ab"
   ]
  },
  {
   "cell_type": "markdown",
   "metadata": {},
   "source": [
    "In the following parts open the files, called \"anaTuples\", where already a selection is applied (Central energy scale). Create a DataFrame for the tree and calculate the total weight.\n",
    "\n",
    "Specify for the two samples we want to analyze, Signal SM and TT and create a map for the names."
   ]
  },
  {
   "cell_type": "code",
   "execution_count": null,
   "metadata": {},
   "outputs": [],
   "source": [
    "#path = \"/gpfs/ddn/cms/user/cmsdas/2019/hh_bbtautau/anaTuples/\" #in Pisa\n",
    "#path = \"/eos/user/m/mgrippo/CMSDAS_2019_hh_bbtautau/anaTuples/\" #on Swan\n",
    "\n",
    "channel = #choose the channel with which you want to work\n",
    "\n",
    "#open the file with uproot, create a pandas DataFrame (as in Significance Estimation exercise) and create total weight\n",
    "\n",
    "#define a vector calles \"samples\" with sample_id and a map with names\n",
    "    "
   ]
  },
  {
   "cell_type": "markdown",
   "metadata": {},
   "source": [
    "Make the plot for both Signal and TT of mass of Higgs into bb candidate and of Higgs into tau pair candidate, in order to view the different behaviour of the signal and of the background. What can you notice?"
   ]
  },
  {
   "cell_type": "code",
   "execution_count": null,
   "metadata": {},
   "outputs": [],
   "source": [
    "fig, ax = plt.subplots(1, 2, figsize=(10,10))\n",
    "\n",
    "n = 0\n",
    "bins_x = np.linspace(0, 400, 20)\n",
    "bins_y = np.linspace(0, 400, 20)\n",
    "for sample in samples:\n",
    "    #create an hist2d with pyplot, specifying the sample_id for each variable, \n",
    "    #set axis labels and title of the histogram\n",
    "    \n",
    "    n += 1\n",
    "#plt.subplots_adjust(bottom=0.1, right=1.5, top=1.5)\n",
    "plt.show()"
   ]
  },
  {
   "cell_type": "markdown",
   "metadata": {},
   "source": [
    "Write the code for the minimization of the ellipse cut around mbb and mtautau. It has to be first calculated with 2 paramenters (the center of the ellipse or the radius of the ellipse), then also there is the possiblity to have a fit of 4 parameters"
   ]
  },
  {
   "cell_type": "code",
   "execution_count": null,
   "metadata": {},
   "outputs": [],
   "source": [
    "class EllipseMinimization( ROOT.TPyMultiGenFunction ):\n",
    "    def __init__( self, samples, x0, y0, a, b, fit_setup):\n",
    "        #define the constructor of the class\n",
    "        ROOT.TPyMultiGenFunction.__init__( self, self )\n",
    "\n",
    "    def NDim(self):\n",
    "        if self.fit_setup == FitSetup.x0y0ab:\n",
    "            return 4\n",
    "        return 2\n",
    "\n",
    "    def DoEval(self, args):\n",
    "        n = 0\n",
    "        #define the elements and the args according to which setup should be run  (center or radius)\n",
    "        \n",
    "        #calculate the number of signal and bkg events\n",
    "        \n",
    "        #calculate the significance as in the previous exercise to obtain the minimum   \n",
    "    \n",
    "        return #significance\n",
    "        \n",
    "    def CalcNumEvents(self, sample_name, x0, y0, a, b):\n",
    "        #define the number of events inside the ellipse reweighted with total weight"
   ]
  },
  {
   "cell_type": "code",
   "execution_count": null,
   "metadata": {},
   "outputs": [],
   "source": [
    "def FindParams(samples, x0, y0, a, b, fit_setup):\n",
    "    #use as minimizer Minuit\n",
    "    ellipse = EllipseMinimization(samples, x0, y0, a, b, fit_setup)\n",
    "\n",
    "    minimizer.SetFunction(ellipse)\n",
    "\n",
    "    # Set the variables to be minimized!\n",
    "    c_factor = 0.1\n",
    "    r_factor = 5.0\n",
    "    n = 0\n",
    "    #set the limited variables for the different setups\n",
    "        \n",
    "    minimizer.Minimize()\n",
    "    #result = [x for ix in minimizer.X()]\n",
    "    result = [minimizer.X()[i] for i in range(ellipse.NDim())]\n",
    "    return tuple(result)"
   ]
  },
  {
   "cell_type": "markdown",
   "metadata": {},
   "source": [
    "Now you have to choose a starting point for the minimization. For the center values the indices of the maximum values for the mass candidate and their bin extremis should be taken"
   ]
  },
  {
   "cell_type": "code",
   "execution_count": null,
   "metadata": {},
   "outputs": [],
   "source": [
    "sgn_id = Samples.Signal_NonRes\n",
    "#create two histograms for m_bb and m_tautau (with the correct sample_id) and \n",
    "#take the maximum value and then the center considering \n",
    "#the bin extremis\n",
    "print(x0, y0)"
   ]
  },
  {
   "cell_type": "markdown",
   "metadata": {},
   "source": [
    "For the radius initial values should be used the 25th and 75th percentiles."
   ]
  },
  {
   "cell_type": "code",
   "execution_count": null,
   "metadata": {},
   "outputs": [],
   "source": [
    "#calculate the radius considering the percentile interval and the initial values calculated for the centers\n",
    "print(a, b)"
   ]
  },
  {
   "cell_type": "markdown",
   "metadata": {},
   "source": [
    "Calculate new center parameters starting from the initial values calculated for radius and center"
   ]
  },
  {
   "cell_type": "code",
   "execution_count": null,
   "metadata": {},
   "outputs": [],
   "source": [
    "#use function FindParams with correct setup\n",
    "print(new_x0, new_y0)"
   ]
  },
  {
   "cell_type": "markdown",
   "metadata": {},
   "source": [
    "Calculate new radius parameters starting from the starting point for radius and the calculated one for centers"
   ]
  },
  {
   "cell_type": "code",
   "execution_count": null,
   "metadata": {},
   "outputs": [],
   "source": [
    "#use FindParams with correct setup\n",
    "print(new_a, new_b)"
   ]
  },
  {
   "cell_type": "markdown",
   "metadata": {},
   "source": [
    "Calculate the final parameters fitting the 4 parameters, using as initial values the center and radius values obtained by previus fit in 2 dimension"
   ]
  },
  {
   "cell_type": "code",
   "execution_count": null,
   "metadata": {},
   "outputs": [],
   "source": [
    "#use FindParams in 4 dimension\n",
    "print(new_x0, new_y0, new_a, new_b)\n",
    "print(final_x0, final_y0, final_a, final_b)"
   ]
  },
  {
   "cell_type": "code",
   "execution_count": null,
   "metadata": {},
   "outputs": [],
   "source": []
  }
 ],
 "metadata": {
  "kernelspec": {
   "display_name": "Python 3",
   "language": "python",
   "name": "python3"
  },
  "language_info": {
   "codemirror_mode": {
    "name": "ipython",
    "version": 3
   },
   "file_extension": ".py",
   "mimetype": "text/x-python",
   "name": "python",
   "nbconvert_exporter": "python",
   "pygments_lexer": "ipython3",
   "version": "3.6.7"
  }
 },
 "nbformat": 4,
 "nbformat_minor": 2
}
