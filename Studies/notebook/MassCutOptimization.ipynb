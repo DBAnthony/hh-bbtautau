{
 "cells": [
  {
   "cell_type": "markdown",
   "metadata": {},
   "source": [
    "Include all the packages needed for this exercise as reported below"
   ]
  },
  {
   "cell_type": "code",
   "execution_count": null,
   "metadata": {},
   "outputs": [],
   "source": [
    "import ROOT\n",
    "import numpy as np\n",
    "import matplotlib.pyplot as plt\n",
    "import math \n",
    "import uproot\n",
    "import pandas"
   ]
  },
  {
   "cell_type": "markdown",
   "metadata": {},
   "source": [
    "Here two classes where one defines the caracteristics of a sample (name and sample identification), the other defines which setup to be fitted (center of the ellipse, radius or both) "
   ]
  },
  {
   "cell_type": "code",
   "execution_count": null,
   "metadata": {},
   "outputs": [],
   "source": [
    "class Samples:\n",
    "    Signal_NonRes = -125\n",
    "    TT = 1\n",
    "        \n",
    "class FitSetup:\n",
    "    x0y0 = 1\n",
    "    ab = 2\n",
    "    x0y0ab = x0y0 + ab\n",
    "    \n",
    "class Regions:\n",
    "    OS_Isolated = 1\n",
    "    OS_AntiIsolated = 2\n",
    "    SS_Isolated = 3\n",
    "    SS_AntiIsolated = 4"
   ]
  },
  {
   "cell_type": "markdown",
   "metadata": {},
   "source": [
    "In the following parts open the files, called \"anaTuples\". Create a DataFrame for the tree.\n",
    "\n",
    "Specify for the two samples we want to analyze, Signal SM and TT and create a map for the names."
   ]
  },
  {
   "cell_type": "code",
   "execution_count": null,
   "metadata": {},
   "outputs": [],
   "source": [
    "#path = \"/gpfs/ddn/cms/user/cmsdas/2019/hh_bbtautau/anaTuples/\" #in Pisa\n",
    "#path = \"/eos/user/m/mgrippo/CMSDAS_2019_hh_bbtautau/anaTuples/\" #on Swan\n",
    "\n",
    "channel = #choose the channel with which you want to work\n",
    "\n",
    "branches = [ 'sample_id', 'region_id', 'm_sv', 'm_bb', 'weight', 'm_tt_vis']\n",
    "\n",
    "#open the file with uproot, create a pandas DataFrame (as in Significance Estimation exercise), but only for \n",
    "#selected branches\n",
    "\n",
    "#skimmed DataFrame to be in the signal region (OS_Isolated)\n",
    "df = df[((df.sample_id == Samples.Signal_NonRes) | (df.sample_id == Samples.TT)) \\ \n",
    "        & (df.region_id == Regions.OS_Isolated)]\n",
    "\n",
    "\n",
    "samples = [Samples.Signal_NonRes,Samples.TT]\n",
    "sample_names = { Samples.Signal_NonRes : \"Signal\", Samples.TT : \"TT\"} #only for plotting visualization"
   ]
  },
  {
   "cell_type": "markdown",
   "metadata": {},
   "source": [
    "Make the plot for both Signal and TT of mass of Higgs into bb candidate and of Higgs into tau pair candidate, in order to view the different behaviour of the signal and of the background. What can you notice?"
   ]
  },
  {
   "cell_type": "code",
   "execution_count": null,
   "metadata": {},
   "outputs": [],
   "source": [
    "fig, ax = plt.subplots(1, 2, figsize=(10,10))\n",
    "\n",
    "n = 0\n",
    "bins_x = np.linspace(0, 400, 20)\n",
    "bins_y = np.linspace(0, 400, 20)\n",
    "for sample in samples:\n",
    "    #create a hist2d with pyplot, specifying the sample_id for each variable, \n",
    "    #set axis labels and title of the histogram\n",
    "    \n",
    "    n += 1\n",
    "\n",
    "plt.show()"
   ]
  },
  {
   "cell_type": "markdown",
   "metadata": {},
   "source": [
    "Write the code for the minimization of the ellipse cut around mbb and mtautau. It has to be first calculated with 2 paramenters (the center of the ellipse or the radius of the ellipse). Then consider also the possiblity to have a fit of 4 parameters"
   ]
  },
  {
   "cell_type": "code",
   "execution_count": null,
   "metadata": {},
   "outputs": [],
   "source": [
    "#This class is inherited from the base class for the target function in the ROOT minimization framework \n",
    "class EllipseMinimization( ROOT.TPyMultiGenFunction ):\n",
    "    def __init__( self, samples, x0, y0, a, b, fit_setup):\n",
    "        #store parameters in the instance of the class\n",
    "        ROOT.TPyMultiGenFunction.__init__( self, self )\n",
    "\n",
    "    def NDim(self):\n",
    "        \"\"\"Return number of dimensions\"\"\"\n",
    "\n",
    "    def DoEval(self, args):\n",
    "        n = 0\n",
    "        \"\"\"Evaluate the loss function in the point provided by args. Args is an array of NDim dimensions\"\"\"\n",
    "        #define the elements and the args according to which setup should be run  (center or radius)\n",
    "        \n",
    "        #calculate the number of signal and bkg events\n",
    "        \n",
    "        #calculate the significance as in the previous exercise to obtain the minimum   \n",
    "    \n",
    "        return # -significance\n",
    "        \n",
    "    def CalcNumEvents(self, sample_id, x0, y0, a, b):\n",
    "        #define the number of events inside the ellipse \n",
    "        #it is important to apply weights!"
   ]
  },
  {
   "cell_type": "markdown",
   "metadata": {},
   "source": [
    "Here the function for minimization, where you have to pass the tolerance from outside. Here reported the default value for tolerance. You should change it for the fit of each parameter."
   ]
  },
  {
   "cell_type": "code",
   "execution_count": null,
   "metadata": {},
   "outputs": [],
   "source": [
    "def FindParams(samples, x0, y0, a, b, fit_setup):\n",
    "    minimizer = ROOT.Math.Factory.CreateMinimizer(\"Minuit\", \"Combined\")\n",
    "    minimizer.SetTolerance(0.1) #The default tolerance value is 0.1, and the minimization will stop \n",
    "                                #when the estimated vertical distance to the minimum (EDM) is less than\n",
    "                                #0.001∗tolerance \n",
    "    minimizer.SetPrintLevel(2)\n",
    "    minimizer.SetStrategy(2)\n",
    "    ellipse = #create EllipseMinimization\n",
    "\n",
    "    minimizer.SetFunction(ellipse)\n",
    "\n",
    "    # Set the variables to be minimized!\n",
    "    c_factor = #choose reasonable values for center variable limits\n",
    "    r_factor = #choose reasonable values for radius variable limits\n",
    "    n = 0\n",
    "    if fit_setup & FitSetup.x0y0 != 0:\n",
    "        minimizer.SetLimitedVariable(0, \"x0\", x0, 1, x0 * (1 - c_factor), x0 * (1 + c_factor))\n",
    "        minimizer.SetLimitedVariable(1, \"y0\", y0, 1, y0 * (1 - c_factor), y0 * (1 + c_factor))\n",
    "        n = 2\n",
    "    if fit_setup & FitSetup.ab != 0:\n",
    "        minimizer.SetLimitedVariable(n, \"a\", a, 0.1, max(2, a * (1 - r_factor)), a * (1 + r_factor))\n",
    "        minimizer.SetLimitedVariable(n + 1, \"b\", b, 0.1, max(2, b * (1 - r_factor)), b * (1 + r_factor))\n",
    "        \n",
    "    minimizer.Minimize()\n",
    "    if(!minimizer.Minimize()) :\n",
    "        raise RuntimeError(\"Minimization is not converged.\")\n",
    "    #result = [x for ix in minimizer.X()]\n",
    "    result = [minimizer.X()[i] for i in range(ellipse.NDim())]\n",
    "    cov_matrix = np.zeros((ellipse.NDim(), ellipse.NDim()))\n",
    "    for k in range(ellipse.NDim()):\n",
    "        for l in range(ellipse.NDim()):\n",
    "            cov_matrix[k, l] = minimizer.CovMatrix(k, l)\n",
    "    return tuple(result), cov_matrix"
   ]
  },
  {
   "cell_type": "markdown",
   "metadata": {},
   "source": [
    "Now you have to choose a starting point for the minimization. \n",
    "For the center we suggest to use the most probable value, which can be calculated in the similar way as in Significance Estimation exercise"
   ]
  },
  {
   "cell_type": "code",
   "execution_count": null,
   "metadata": {},
   "outputs": [],
   "source": [
    "sgn_id = Samples.Signal_NonRes\n",
    "#calculate mpv\n",
    "print(x0, y0)"
   ]
  },
  {
   "cell_type": "markdown",
   "metadata": {},
   "source": [
    "For the radius as the initial values we suggest to use an estimate based on the interquantile distance (distance between 25th and 75th percentiles), similar to the previous exercise."
   ]
  },
  {
   "cell_type": "code",
   "execution_count": null,
   "metadata": {},
   "outputs": [],
   "source": [
    "#calculate the radius\n",
    "print(a, b)"
   ]
  },
  {
   "cell_type": "markdown",
   "metadata": {},
   "source": [
    "Calculate new center parameters starting from the initial values calculated for radius and center"
   ]
  },
  {
   "cell_type": "code",
   "execution_count": null,
   "metadata": {},
   "outputs": [],
   "source": [
    "#use function FindParams with correct setup, print as a table new values and error from cov_matrix\n",
    "print(new_x0, new_y0)"
   ]
  },
  {
   "cell_type": "markdown",
   "metadata": {},
   "source": [
    "Calculate new radius parameters starting from the starting point for radius and the calculated one for centers"
   ]
  },
  {
   "cell_type": "code",
   "execution_count": null,
   "metadata": {},
   "outputs": [],
   "source": [
    "#use FindParams with correct setup, print as a table new values and error from cov_matrix\n",
    "print(new_a, new_b)"
   ]
  },
  {
   "cell_type": "markdown",
   "metadata": {},
   "source": [
    "Calculate the final parameters fitting the 4 parameters, using as initial values the center and radius values obtained by previus fit in 2 dimensions"
   ]
  },
  {
   "cell_type": "code",
   "execution_count": null,
   "metadata": {},
   "outputs": [],
   "source": [
    "#use FindParams in 4 dimension, print as a table new values and error from cov_matrix\n",
    "print(new_x0, new_y0, new_a, new_b)\n",
    "print(final_x0, final_y0, final_a, final_b)"
   ]
  },
  {
   "cell_type": "markdown",
   "metadata": {},
   "source": [
    "Try now to use instead of m_sv the visible invariant mass for H->tautau candidate"
   ]
  },
  {
   "cell_type": "code",
   "execution_count": null,
   "metadata": {},
   "outputs": [],
   "source": []
  }
 ],
 "metadata": {
  "kernelspec": {
   "display_name": "Python 3",
   "language": "python",
   "name": "python3"
  },
  "language_info": {
   "codemirror_mode": {
    "name": "ipython",
    "version": 3
   },
   "file_extension": ".py",
   "mimetype": "text/x-python",
   "name": "python",
   "nbconvert_exporter": "python",
   "pygments_lexer": "ipython3",
   "version": "3.6.7"
  }
 },
 "nbformat": 4,
 "nbformat_minor": 2
}
