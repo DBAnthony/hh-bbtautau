{
 "cells": [
  {
   "cell_type": "markdown",
   "metadata": {},
   "source": [
    "Include all the packages needed for this exercise as reported below"
   ]
  },
  {
   "cell_type": "code",
   "execution_count": null,
   "metadata": {},
   "outputs": [],
   "source": [
    "import numpy as np\n",
    "import matplotlib.pyplot as plt\n",
    "import math\n",
    "import uproot\n",
    "import pandas\n",
    "import scipy\n",
    "from scipy.optimize import curve_fit"
   ]
  },
  {
   "cell_type": "markdown",
   "metadata": {},
   "source": [
    "Write an enumeration where are reported the sample id for each sample, considering the same sample_id in AnaTuple.h - https://github.com/hh-italian-group/hh-bbtautau/blob/cmsdas_2019/Analysis/include/AnaTuple.h#L16"
   ]
  },
  {
   "cell_type": "code",
   "execution_count": null,
   "metadata": {},
   "outputs": [],
   "source": [
    "class Samples:\n",
    "    Signal_NonRes = -125\n",
    "    Signal_Radion = [ -260, -270, -280, -300, -320, -340, -350,\n",
    "                      -400, -450, -500, -550, -600, -650, -750, -800, -900 ]\n",
    "    Data = 0\n",
    "    TT = 1\n",
    "    DY = 2\n",
    "    Wjets= 3\n",
    "    SM_Higgs = 4\n",
    "    other_bkg = 5\n",
    "    \n",
    "class Regions:\n",
    "    OS_Isolated = 1\n",
    "    OS_AntiIsolated = 2\n",
    "    SS_Isolated = 3\n",
    "    SS_AntiIsolated = 4"
   ]
  },
  {
   "cell_type": "markdown",
   "metadata": {},
   "source": [
    "Define a class for btagging working points"
   ]
  },
  {
   "cell_type": "code",
   "execution_count": null,
   "metadata": {},
   "outputs": [],
   "source": [
    "class btag_wp:\n",
    "    Loose = 0.5426\n",
    "    Medium = 0.8484\n",
    "    Tight = 0.9535"
   ]
  },
  {
   "cell_type": "markdown",
   "metadata": {},
   "source": [
    "Here you can find the values of the cross-sections and branching ratios for each mass for the resonance samples (for the non-resonant are already included in the ntuples) and the branching ratio for the two higgses decaying in 2 tau leptons and 2 b-jets"
   ]
  },
  {
   "cell_type": "code",
   "execution_count": null,
   "metadata": {},
   "outputs": [],
   "source": [
    "cross_sections = { 260 : 10.31 , 270 : 9.62 , 280 : 8.79 , 300 : 7.20 , 320 : 6.19 , 340 : 5.22 , \n",
    "         350 : 4.79 , 400 : 3.37, 450 : 2.20 , 500 : 1.96, 550 : 1.2 , 600 : 1.24, 650 : 0.82 , \n",
    "         750 : 0.66, 800 : 0.54, 900 : 0.37}\n",
    "\n",
    "br_hh = { 260 : 0.24 , 270 : 0.28 , 280 : 0.31 , 300 : 0.32 , 320 : 0.33 , 340 : 0.32, \n",
    "         350 : 0.32, 400 : 0.28, 450 : 0.26, 500 : 0.25, 550 : 0.24, 600 : 0.24, 650 : 0.24, \n",
    "         750 : 0.237, 800 : 0.237, 900 : 0.237}\n",
    "\n",
    "br_h_bb = 5.809e-01\n",
    "br_h_tt = 6.256e-02\n",
    "br_hh_bbtt = #calculate total BR"
   ]
  },
  {
   "cell_type": "markdown",
   "metadata": {},
   "source": [
    "Open the file, called anaTuples, which are different for each channel. Then create a pandas DataFrame."
   ]
  },
  {
   "cell_type": "code",
   "execution_count": null,
   "metadata": {},
   "outputs": [],
   "source": [
    "#open the file according where you are working\n",
    "\n",
    "#path = \"/gpfs/ddn/cms/user/cmsdas/2019/hh_bbtautau/anaTuples/\" #in Pisa\n",
    "#path = \"/eos/home-m/mgrippo/CMSDAS_2019_hh_bbtautau/anaTuples/\" #on Swan\n",
    "\n",
    "channel = #specify the channel with which you want to work: eTau, muTau or tauTau\n",
    "\n",
    "#selected only the used branches\n",
    "branches = [ 'sample_id', 'region_id', 'csv_b*', 'weight', 'MT2', 'm_ttbb_kinfit']\n",
    "\n",
    "#open file with uproot and create pandas DataFrame\n",
    "with uproot.open(path+channel+\"_tuple.root\") as file:\n",
    "    tree = file[channel]\n",
    "    df = tree.arrays(branches, outputtype=pandas.DataFrame)"
   ]
  },
  {
   "cell_type": "code",
   "execution_count": null,
   "metadata": {},
   "outputs": [],
   "source": [
    "signal =  #specify the signal with which you want to work \"non-res\" or \"res\""
   ]
  },
  {
   "cell_type": "markdown",
   "metadata": {},
   "source": [
    "Define QCD contribution, considering that the contribution in the signal region (= opposite-sign for taus and both isolated - OS_Isolated) can be estimated from data in the sideband regions after subtracting background MC contribution. \n",
    "The yield of QCD in the signal region is estimated using the following formula:\n",
    "\n",
    "N(OS_Isolated) = N(SS_Isolated) * N(OS_AntiIsolated)/N(SS_AntiIsolated)"
   ]
  },
  {
   "cell_type": "code",
   "execution_count": null,
   "metadata": {},
   "outputs": [],
   "source": [
    "def CalculateQCD(selection) :\n",
    "    #specify the region using the branch in anaTuples called region_id\n",
    "    \n",
    "    #calculate the number of events for data and bkg MC in each sideband region and with a specific selection \n",
    "    #passed from outside\n",
    "    \n",
    "    #be carefull if the subtracction gives a negative number return 0!\n",
    "    "
   ]
  },
  {
   "cell_type": "markdown",
   "metadata": {},
   "source": [
    "Write a method to calculate the significance, taking into account the difference between resonance and non-resonant samples. Remember to calculate the contribution for the background adding the qcd estimation"
   ]
  },
  {
   "cell_type": "code",
   "execution_count": null,
   "metadata": {},
   "outputs": [],
   "source": [
    "def CalculateSigma(mX, selection, region, is_res) :\n",
    "    #for non-resonant the weights already include cross-section and final BR for the SM\n",
    "    #while for resonant the signal yields are normalized to 1 pb; therefore you should apply the cross-section*final BR \n",
    "    \n",
    "    #define how to calculate s/sqrt(s+b)"
   ]
  },
  {
   "cell_type": "markdown",
   "metadata": {},
   "source": [
    "The aim of the exercise is to calculate the significance for each resonant and non-resonant sample, using different preselection:\n",
    "\n",
    "* Requiring that we are in the signal region, that means that the two tau leptons should be opposite charge and they should be isolated. And requiring that both b-jets pass the medium working point for b-tagging"
   ]
  },
  {
   "cell_type": "code",
   "execution_count": null,
   "metadata": {},
   "outputs": [],
   "source": [
    "b_tag_sel_1 = df.csv_b1 > btag_wp.Medium\n",
    "b_tag_sel_2 = df.csv_b2 > btag_wp.Medium \n",
    "signal_region = df.region_id == Regions.OS_Isolated\n",
    "\n",
    "presel = b_tag_sel_1 & b_tag_sel_2 \n",
    "\n",
    "print('{:10} {:10}'.format('mX', 'sigma'))\n",
    "\n",
    "if(signal == \"non-res\") :\n",
    "    mX = 125\n",
    "    sigma = CalculateSigma(mX, presel,signal_region,False)\n",
    "    print('{:<10.2f} {:<10.6f}'.format(mX, sigma))\n",
    "    \n",
    "elif(signal == \"res\") :\n",
    "    mX_list = np.array(Samples.Signal_Radion)\n",
    "    mX = [ -x for x in mX_list]\n",
    "    sigma = np.zeros(len(mX))\n",
    "    for n in range(len(mX)):\n",
    "        sigma[n] = CalculateSigma(mX[n], presel,signal_region,True)\n",
    "        print('{:<10.2f} {:<10.2f}'.format(mX[n], sigma[n]))\n",
    "\n",
    "    sigma_plt = plt.plot(mX, sigma)\n",
    "    plt.xlabel(r'$M_X$ [GeV]')\n",
    "    plt.ylabel(r'Significance')\n",
    "    plt.title('Significance')\n",
    "    plt.show()"
   ]
  },
  {
   "cell_type": "markdown",
   "metadata": {},
   "source": [
    "* As second point it should be added a different mass cut for the resonant candidate, to see how it changes the significance\n",
    "\n",
    "Here a method to calculate the maximum probable value and the width using the 68 percentile"
   ]
  },
  {
   "cell_type": "code",
   "execution_count": null,
   "metadata": {},
   "outputs": [],
   "source": [
    "def CalcMpvAndWidth(var):\n",
    "    hist, bin_edges = np.histogram(var, bins=200, range=(0, np.amax(var)))\n",
    "    max_bin = np.argmax(hist)\n",
    "    mpv = (bin_edges[max_bin] + bin_edges[max_bin + 1]) / 2\n",
    "    \n",
    "    inner_percentile = 68\n",
    "    interval = np.percentile(var, [(100-inner_percentile)/2, 100 - ((100-inner_percentile)/2)])\n",
    "    width = (interval[1]-interval[0])/2\n",
    "    \n",
    "    return mpv, width"
   ]
  },
  {
   "cell_type": "markdown",
   "metadata": {},
   "source": [
    "Repeat the previous calculation but adding this cut on MT2 variable for non-resonant analysis and on m_ttbb_kinfit for resonant analysis.\n",
    "\n",
    "Pay attention that each calculation of sigma depends on this cut.\n",
    "\n",
    "Does the significance improve with this cut?"
   ]
  }
 ],
 "metadata": {
  "kernelspec": {
   "display_name": "Python 3",
   "language": "python",
   "name": "python3"
  },
  "language_info": {
   "codemirror_mode": {
    "name": "ipython",
    "version": 3
   },
   "file_extension": ".py",
   "mimetype": "text/x-python",
   "name": "python",
   "nbconvert_exporter": "python",
   "pygments_lexer": "ipython3",
   "version": "3.6.7"
  }
 },
 "nbformat": 4,
 "nbformat_minor": 2
}
