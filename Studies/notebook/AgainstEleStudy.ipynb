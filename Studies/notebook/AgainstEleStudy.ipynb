{
 "cells": [
  {
   "cell_type": "markdown",
   "metadata": {},
   "source": [
    "Import required modules"
   ]
  },
  {
   "cell_type": "code",
   "execution_count": null,
   "metadata": {},
   "outputs": [],
   "source": [
    "import ROOT # a modular scientific software toolkit\n",
    "import math # general mathematical function\n",
    "import numpy as np # the fundamental package for scientific computing with Python\n",
    "from statsmodels.stats.proportion import proportion_confint # confidence interval for a binomial proportion\n",
    "import matplotlib.pyplot as plt # a plotting library"
   ]
  },
  {
   "cell_type": "code",
   "execution_count": null,
   "metadata": {},
   "outputs": [],
   "source": [
    "c = ROOT.TCanvas() # ROOT requires to have a canvas to show plots in Jupyter."
   ]
  },
  {
   "cell_type": "markdown",
   "metadata": {},
   "source": [
    "Definitions of common types and constants used in the code below:\n",
    "* __GenMatch__ - tau candidate gen matching\n",
    "* __channels__ - channel names;\n",
    "* __samples__ - list of samples;\n",
    "* __sample_names__ - list of names of the samples for visualization purposes;\n",
    "* __working_points__ - avaliable working points for tau against electron discriminator\n",
    "* __path__ - path to the input root files"
   ]
  },
  {
   "cell_type": "code",
   "execution_count": null,
   "metadata": {},
   "outputs": [],
   "source": [
    "class GenMatch:\n",
    "    Electron = 1    # reco tau is matched to prompt electron\n",
    "    Muon = 2        # reco tau is matched to prompt muon\n",
    "    TauElectron = 3 # reco tau is matched to an electron from tau decay\n",
    "    TauMuon = 4     # reco tau is matched to an muon from tau decay\n",
    "    Tau = 5         # reco tau is matched to tau, which decayed in hadrons + neutrions\n",
    "    NoMatch = 6     # reco tau do not matched to any lepton at the generator level (i.e. quark or gluon jet)\n",
    "\n",
    "channels = [ 'eTau', 'muTau' ]\n",
    "samples = [ 'DY', 'HH' ]\n",
    "sample_names = [ '$Z/\\gamma^*\\\\to\\\\ell\\\\ell + jets$', '$gg \\\\to HH \\\\to bb\\\\tau\\\\tau$']\n",
    "working_points = [ 'None', 'VLoose', 'Loose', 'Medium', 'Tight', 'VTight' ]\n",
    "path = './'"
   ]
  },
  {
   "cell_type": "code",
   "execution_count": null,
   "metadata": {},
   "outputs": [],
   "source": [
    "def GetHistograms(path, sample, channel, wp):\n",
    "    \"\"\"The function that reads selection and gen match histograms from a root file produced by Production.py.\n",
    "    Each file is expected to have the following name format: {sample}_{wp}.root.\n",
    "    \"\"\"\n",
    "    file = ROOT.TFile('{}/{}_{}.root'.format(path, sample, wp), 'OPEN')\n",
    "    sel_events = file.Get('{}_stat/Selection_events'.format(channel))\n",
    "    sel_events.SetDirectory(0)\n",
    "    sel_tau = file.Get('{}_stat/Selection_SignalTaus'.format(channel))\n",
    "    sel_tau.SetDirectory(0)\n",
    "    gen_match_hist_name = '{}_{}_{}_gen'.format(sample, channel, wp)\n",
    "    tree = file.Get(channel)\n",
    "    tree.Draw('gen_match_2>>{}(6, 0.5, 6.5)'.format(gen_match_hist_name))\n",
    "    gen_match_hist = ROOT.gROOT.FindObject(gen_match_hist_name).Clone()\n",
    "    gen_match_hist.SetDirectory(0)\n",
    "    return sel_events, sel_tau, gen_match_hist"
   ]
  },
  {
   "cell_type": "markdown",
   "metadata": {},
   "source": [
    "Load and draw histograms for Drell-Yan, e-tau channel, VLoose against electron working point"
   ]
  },
  {
   "cell_type": "code",
   "execution_count": null,
   "metadata": {},
   "outputs": [],
   "source": [
    "... "
   ]
  },
  {
   "cell_type": "markdown",
   "metadata": {},
   "source": [
    "Calculate the efficiency of the anti-electron discriminator and the contamination by the electrons in the final selection"
   ]
  },
  {
   "cell_type": "code",
   "execution_count": null,
   "metadata": {},
   "outputs": [],
   "source": [
    "def ratio(n_passed, n_total):\n",
    "    \"\"\"Ratio between the number of passed and the total number of events\n",
    "       with a 68% binomial confidence interval.\"\"\"\n",
    "    r = n_passed / n_total\n",
    "    r_low, r_up = proportion_confint(n_passed, n_total, alpha=(1-0.68), method='beta')\n",
    "    return r, r_low, r_up"
   ]
  },
  {
   "cell_type": "code",
   "execution_count": null,
   "metadata": {},
   "outputs": [],
   "source": [
    "def GetBinIndex(hist, bin_name):\n",
    "    \"\"\"Return the index of the bin with the label equal to `bin_name`.\"\"\"\n",
    "    axis = hist.GetXaxis()\n",
    "    n_bins = axis.GetNbins()\n",
    "    for bin_id in range(1, axis.GetNbins() + 1):\n",
    "        if axis.GetBinLabel(bin_id) == bin_name:\n",
    "            return bin_id\n",
    "    raise RuntimeError('Bin \"{}\" not found.'.format(bin_name))\n",
    "    \n",
    "def GetBinContent(hist, bin_name):\n",
    "    \"\"\"Return the bin content of the bin with the label equal to `bin_name`.\"\"\"\n",
    "    return hist.GetBinContent(GetBinIndex(hist, bin_name))"
   ]
  },
  {
   "cell_type": "code",
   "execution_count": null,
   "metadata": {},
   "outputs": [],
   "source": [
    "...\n",
    "print(\"Anti-ele discriminator efficiency: {:.2f}% CI=({:.2f}, {:.2f})%\" \\\n",
    "      .format(anti_ele_eff*100, anti_ele_eff_low*100, anti_ele_eff_up*100))\n",
    "print(\"Electron contamination: {:.2f}% CI=({:.2f}, {:.2f})%\" \\\n",
    "      .format(cont*100, cont_low*100, cont_up*100))"
   ]
  },
  {
   "cell_type": "markdown",
   "metadata": {},
   "source": [
    "Load and plot the overal selection efficiency, efficiency of the anti-electron cut and the contamination by the electrons in the final selection as a function of the working point."
   ]
  },
  {
   "cell_type": "code",
   "execution_count": null,
   "metadata": {},
   "outputs": [],
   "source": [
    "n_wp = len(working_points)\n",
    "selection_efficiency = {}\n",
    "anti_ele_efficiency = {}\n",
    "contamination = {}\n",
    "\n",
    "for channel in channels:\n",
    "    selection_efficiency[channel] = {}\n",
    "    anti_ele_efficiency[channel] = {}\n",
    "    contamination[channel] = {}\n",
    "    for sample in samples:\n",
    "        selection_efficiency[channel][sample] = np.zeros((n_wp, 3))\n",
    "        anti_ele_efficiency[channel][sample] = np.zeros((n_wp, 3))\n",
    "        contamination[channel][sample] = np.zeros((n_wp, 3))\n",
    "        ..."
   ]
  },
  {
   "cell_type": "code",
   "execution_count": null,
   "metadata": {},
   "outputs": [],
   "source": [
    "fig, ax_list = plt.subplots(1, len(channels), figsize=(15,7))\n",
    "for channel_index in range(len(channels)):\n",
    "    channel = channels[channel_index]\n",
    "    ax = ax_list[channel_index]\n",
    "    for sample in samples:\n",
    "        v = selection_efficiency[channel][sample]\n",
    "        ax.errorbar(working_points, v[:, 0], yerr=[v[:, 0] - v[:, 1], v[:, 2] - v[:, 0]])\n",
    "    ax.tick_params(labelsize=14)\n",
    "    ax.set_title(\"Selection efficiency ({})\".format(channel), fontsize=20)\n",
    "    ax.legend(sample_names, fontsize=14, loc='upper right')\n",
    "\n",
    "plt.show()\n",
    "fig.savefig('selection_efficiency.pdf', bbox_inches='tight')"
   ]
  },
  {
   "cell_type": "code",
   "execution_count": null,
   "metadata": {},
   "outputs": [],
   "source": [
    "fig, ax_list = plt.subplots(1, len(channels), figsize=(15,7))\n",
    "for channel_index in range(len(channels)):\n",
    "    channel = channels[channel_index]\n",
    "    ax = ax_list[channel_index]\n",
    "    for sample in samples:\n",
    "        v = anti_ele_efficiency[channel][sample]\n",
    "        ax.errorbar(working_points, v[:, 0], yerr=[v[:, 0] - v[:, 1], v[:, 2] - v[:, 0]])\n",
    "    ax.tick_params(labelsize=14)\n",
    "    ax.set_title(\"Tau anti-electron cut efficiency ({})\".format(channel), fontsize=20)\n",
    "    ax.legend(sample_names, fontsize=14, loc='upper right')\n",
    "\n",
    "plt.show()\n",
    "fig.savefig('anti_ele_rejection.pdf', bbox_inches='tight')"
   ]
  },
  {
   "cell_type": "code",
   "execution_count": null,
   "metadata": {},
   "outputs": [],
   "source": [
    "fig, ax_list = plt.subplots(1, len(channels), figsize=(15,7))\n",
    "for channel_index in range(len(channels)):\n",
    "    channel = channels[channel_index]\n",
    "    ax = ax_list[channel_index]\n",
    "    for sample in samples:\n",
    "        v = contamination[channel][sample]\n",
    "        ax.errorbar(working_points, v[:, 0], yerr=[v[:, 0] - v[:, 1], v[:, 2] - v[:, 0]])\n",
    "    ax.tick_params(labelsize=14)\n",
    "    ax.set_title(\"Contamination by electrons faking tau ({})\".format(channel), fontsize=16)\n",
    "    ax.legend(sample_names, fontsize=14, loc='upper right')\n",
    "\n",
    "plt.show()\n",
    "fig.savefig('contamination.pdf', bbox_inches='tight')"
   ]
  },
  {
   "cell_type": "markdown",
   "metadata": {},
   "source": [
    "Estimate relative significance improvement as a function of the working point. As an estimator use S/sqrt(B)."
   ]
  },
  {
   "cell_type": "code",
   "execution_count": null,
   "metadata": {},
   "outputs": [],
   "source": [
    "..."
   ]
  }
 ],
 "metadata": {
  "kernelspec": {
   "display_name": "Python 3",
   "language": "python",
   "name": "python3"
  },
  "language_info": {
   "codemirror_mode": {
    "name": "ipython",
    "version": 3
   },
   "file_extension": ".py",
   "mimetype": "text/x-python",
   "name": "python",
   "nbconvert_exporter": "python",
   "pygments_lexer": "ipython3",
   "version": "3.6.7"
  }
 },
 "nbformat": 4,
 "nbformat_minor": 2
}
